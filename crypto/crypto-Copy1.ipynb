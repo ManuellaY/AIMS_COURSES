{
 "cells": [
  {
   "cell_type": "code",
   "execution_count": null,
   "id": "6a728fe0",
   "metadata": {},
   "outputs": [],
   "source": []
  },
  {
   "cell_type": "code",
   "execution_count": null,
   "id": "fd30d2e2",
   "metadata": {},
   "outputs": [],
   "source": []
  },
  {
   "cell_type": "code",
   "execution_count": null,
   "id": "e7c7b598",
   "metadata": {},
   "outputs": [],
   "source": []
  },
  {
   "cell_type": "code",
   "execution_count": null,
   "id": "6024b117",
   "metadata": {},
   "outputs": [],
   "source": []
  },
  {
   "cell_type": "code",
   "execution_count": null,
   "id": "8e5a3643",
   "metadata": {},
   "outputs": [],
   "source": []
  },
  {
   "cell_type": "code",
   "execution_count": null,
   "id": "0b56f010",
   "metadata": {},
   "outputs": [],
   "source": []
  },
  {
   "cell_type": "code",
   "execution_count": null,
   "id": "ce7369d3",
   "metadata": {},
   "outputs": [],
   "source": []
  },
  {
   "cell_type": "code",
   "execution_count": null,
   "id": "6c67a9f0",
   "metadata": {},
   "outputs": [],
   "source": []
  },
  {
   "cell_type": "code",
   "execution_count": 6,
   "id": "6d78f2a8",
   "metadata": {},
   "outputs": [],
   "source": [
    "import random\n",
    "from sympy import factorint\n",
    "\n",
    "def sieve_of_eratosthenes(limit):\n",
    "    sieve = [True] * (limit + 1)\n",
    "    sieve[0] = sieve[1] = False\n",
    "    for i in range(2, int(limit ** 0.5) + 1):\n",
    "        if sieve[i]:\n",
    "            for j in range(i * i, limit + 1, i):\n",
    "                sieve[j] = False\n",
    "    return [i for i in range(limit + 1) if sieve[i]]\n",
    "\n",
    "def miller_rabin(n, k=5):\n",
    "    if n == 2 or n == 3:\n",
    "        return True\n",
    "    if n < 2 or n % 2 == 0:\n",
    "        return False\n",
    "    r, s = 0, n - 1\n",
    "    while s % 2 == 0:\n",
    "        r += 1\n",
    "        s //= 2\n",
    "    for _ in range(k):\n",
    "        a = random.randrange(2, n - 1)\n",
    "        x = pow(a, s, n)\n",
    "        if x == 1 or x == n - 1:\n",
    "            continue\n",
    "        for _ in range(r - 1):\n",
    "            x = (x * x) % n\n",
    "            if x == n - 1:\n",
    "                break\n",
    "        else:\n",
    "            return False\n",
    "    return True\n",
    "\n",
    "def generate_large_prime(digits):\n",
    "    while True:\n",
    "        n = random.randint(10**(digits-1), 10**digits - 1)\n",
    "        if miller_rabin(n):\n",
    "            return n\n",
    "\n",
    "def mod_inverse(a, m):\n",
    "    def extended_gcd(a, b):\n",
    "        if a == 0:\n",
    "            return b, 0, 1\n",
    "        gcd, x1, y1 = extended_gcd(b % a, a)\n",
    "        x = y1 - (b // a) * x1\n",
    "        y = x1\n",
    "        return gcd, x, y\n",
    "    _, x, _ = extended_gcd(a, m)\n",
    "    return (x % m + m) % m\n",
    "\n"
   ]
  },
  {
   "cell_type": "code",
   "execution_count": 7,
   "id": "255a5bfb",
   "metadata": {},
   "outputs": [
    {
     "data": {
      "text/plain": [
       "39"
      ]
     },
     "execution_count": 7,
     "metadata": {},
     "output_type": "execute_result"
    }
   ],
   "source": [
    "p1 = generate_large_prime(39)\n",
    "len(str(p1))"
   ]
  },
  {
   "cell_type": "code",
   "execution_count": 10,
   "id": "edd71ad9",
   "metadata": {},
   "outputs": [
    {
     "name": "stdout",
     "output_type": "stream",
     "text": [
      "p1 digits: 349\n",
      "p2 digits: 350\n",
      "p digits: 700\n"
     ]
    }
   ],
   "source": [
    "# Generate p1, p2, p\n",
    "p1 = generate_large_prime(349)\n",
    "p2 = generate_large_prime(350)\n",
    "while p1 >= p2:\n",
    "    p2 = generate_large_prime(350)\n",
    "p = 2 * p1 * p2 + 1\n",
    "while not miller_rabin(p) or len(str(p)) < 700:\n",
    "    p1 = generate_large_prime(349)\n",
    "    p2 = generate_large_prime(350)\n",
    "    while p1 >= p2:\n",
    "        p2 = generate_large_prime(350)\n",
    "    p = 2 * p1 * p2 + 1\n",
    "\n",
    "print(f\"p1 digits: {len(str(p1))}\")\n",
    "print(f\"p2 digits: {len(str(p2))}\")\n",
    "print(f\"p digits: {len(str(p))}\")\n",
    "\n"
   ]
  },
  {
   "cell_type": "code",
   "execution_count": 11,
   "id": "ae68188c",
   "metadata": {},
   "outputs": [
    {
     "name": "stdout",
     "output_type": "stream",
     "text": [
      "Encrypt 18: (y, A) = (1337370688924150578968106104853304904222136790189091666454929009487917963553767691313996531033137915134218391628319998317162475335768831264894323817434941656067741908047949703157312845067090594414012200226920397443404677898657698451256725002334769024554528830508555975493037827122928823410886895770054365855411199126465230431612020006660406494520925035379295827838314623005649524419395574724621362327585455390139336432828555854914153689840166009282464033826676439093397747729613196597168448139276247865554748114070766612802738271694173361798716450852596992223764634845794183260189228068749346406481216475733970535813816175734589973982659844396883812025067211166961207145806593461487375655631083626981, 1438739214181172667864323021730604702230810552594518702440376979963133363231864476327553388020941023416246476342317335481032265217573350403438158913972855304046168754656435899486271987717655572040192931871933647044898913840718305550464112923977529501526017970798512968893190827621152518604464662770911364471774806437605685778331779548034195967897866911482673657104535904461813380726411513280812442702851737026089019610313494170980809544429696111812451370201196737914936119267129486206622345511312428627329970646546688188815368618316784071539310847477107118764879636342439692552345847427233838347246320442892636789625720738878326524206319296575020156120364437782453541995097559021885386435423058697530)\n",
      "Encrypt 19: (y, A) = (583204709975730470232590319775367141376567478212285170191354087070347896660270069096360485943468591194009756734255222553921961636780419173792597613581194787544627886133609485626361044699560711313983554465812168868300238907097565176855449858845826128950042388291742641923096278812391777393755569576342734085546416417251317832486824654416606407085783125952012549658532679741315694935784186085443919770825113533248405418945028854188573730401364824596690047467794088456619394286415118279257756826482931691297431381021043172817899810605967514031922042204960257328126844823287211410906461064604066876167690079718280449180508959775549610437081720631084651835990946907601408776426596883832876056015618177725, 718359294596228188075291528156385663792024144520466873310936632682363087256396558472548369574585312572819558995265729357403140588032291867144366278477334805805081413940399354486549647835849107903568948376846727342665373615108058533510654366151241856625721006378347965090558950365353890675300522510499345682325850758011548358465878637115272933211697119032368418469229068638905759900744163008705458827317473156499424472208488490465072134646974976139150331349994533326705635599470257126521420006597431511433490910148074219185467093853514689121776992687675141697769108110654089712243559258338089200769557242244402066603492669530122311088209577704766984984801002714156608110228701789925982084346393571407)\n",
      "Decrypt (y, A) = (1337370688924150578968106104853304904222136790189091666454929009487917963553767691313996531033137915134218391628319998317162475335768831264894323817434941656067741908047949703157312845067090594414012200226920397443404677898657698451256725002334769024554528830508555975493037827122928823410886895770054365855411199126465230431612020006660406494520925035379295827838314623005649524419395574724621362327585455390139336432828555854914153689840166009282464033826676439093397747729613196597168448139276247865554748114070766612802738271694173361798716450852596992223764634845794183260189228068749346406481216475733970535813816175734589973982659844396883812025067211166961207145806593461487375655631083626981, 1438739214181172667864323021730604702230810552594518702440376979963133363231864476327553388020941023416246476342317335481032265217573350403438158913972855304046168754656435899486271987717655572040192931871933647044898913840718305550464112923977529501526017970798512968893190827621152518604464662770911364471774806437605685778331779548034195967897866911482673657104535904461813380726411513280812442702851737026089019610313494170980809544429696111812451370201196737914936119267129486206622345511312428627329970646546688188815368618316784071539310847477107118764879636342439692552345847427233838347246320442892636789625720738878326524206319296575020156120364437782453541995097559021885386435423058697530): z = 18\n",
      "Decrypt (y, A) = (583204709975730470232590319775367141376567478212285170191354087070347896660270069096360485943468591194009756734255222553921961636780419173792597613581194787544627886133609485626361044699560711313983554465812168868300238907097565176855449858845826128950042388291742641923096278812391777393755569576342734085546416417251317832486824654416606407085783125952012549658532679741315694935784186085443919770825113533248405418945028854188573730401364824596690047467794088456619394286415118279257756826482931691297431381021043172817899810605967514031922042204960257328126844823287211410906461064604066876167690079718280449180508959775549610437081720631084651835990946907601408776426596883832876056015618177725, 718359294596228188075291528156385663792024144520466873310936632682363087256396558472548369574585312572819558995265729357403140588032291867144366278477334805805081413940399354486549647835849107903568948376846727342665373615108058533510654366151241856625721006378347965090558950365353890675300522510499345682325850758011548358465878637115272933211697119032368418469229068638905759900744163008705458827317473156499424472208488490465072134646974976139150331349994533326705635599470257126521420006597431511433490910148074219185467093853514689121776992687675141697769108110654089712243559258338089200769557242244402066603492669530122311088209577704766984984801002714156608110228701789925982084346393571407): z = 19\n",
      "Original: HI\n",
      "Decrypted: HI\n"
     ]
    }
   ],
   "source": [
    "# ElGamal\n",
    "g = 2\n",
    "b = random.randint(10**698, 10**699 - 1)\n",
    "B = pow(g, b, p)\n",
    "\n",
    "encoding = {11: 'A', 12: 'B', 13: 'C', 14: 'D', 15: 'E', 16: 'F', 17: 'G', 18: 'H', 19: 'I',\n",
    "            20: 'J', 21: 'K', 22: 'L', 23: 'M', 24: 'N', 25: 'O', 26: 'P', 27: 'Q', 28: 'R',\n",
    "            29: 'S', 30: 'T', 31: 'U', 32: 'V', 33: 'W', 34: 'X', 35: 'Y', 36: 'Z', 41: ' '}\n",
    "\n",
    "# Encrypt \"HI\"\n",
    "message = \"HI\"\n",
    "plaintext = [18, 19]\n",
    "ciphertext = []\n",
    "for x in plaintext:\n",
    "    a = random.randint(10**698, 10**699 - 1)\n",
    "    A = pow(g, a, p)\n",
    "    k = pow(B, a, p)\n",
    "    y = (x * k) % p\n",
    "    ciphertext.append((y, A))\n",
    "    print(f\"Encrypt {x}: (y, A) = ({y}, {A})\")\n",
    "\n",
    "# Decrypt\n",
    "decrypted = []\n",
    "for y, A in ciphertext:\n",
    "    k = pow(A, b, p)\n",
    "    k_inv = mod_inverse(k, p)\n",
    "    z = (y * k_inv) % p\n",
    "    decrypted.append(z)\n",
    "    print(f\"Decrypt (y, A) = ({y}, {A}): z = {z}\")\n",
    "\n",
    "message_decoded = ''.join(encoding[z] for z in decrypted)\n",
    "print(f\"Original: {message}\")\n",
    "print(f\"Decrypted: {message_decoded}\")"
   ]
  },
  {
   "cell_type": "code",
   "execution_count": 12,
   "id": "c08d3215",
   "metadata": {},
   "outputs": [
    {
     "data": {
      "text/plain": [
       "{1641053944392086841921453321058207950444404193817738819473219740270491539459431794790179333198029370519198253827726748664830869236760835903417691319451047305414486954875153737239972475561536800287976368891755115763871510113547756663208548832274327268127263128729961208941625385185852405053532100044643990538296382247743234839833431437598837803711535954141156563558276004799497156738553666297843661349842435716824481757329925850674456792218265058027918615626063402333521893362715365180009430433836026547263073941949585226085934525247984227001466760694409050266285818147599806051959885649489654955078463497446671054793009320004149656371232004170389111728473163917246760060531775088682357931537722739407: 1}"
      ]
     },
     "execution_count": 12,
     "metadata": {},
     "output_type": "execute_result"
    }
   ],
   "source": [
    "from sympy import factorint\n",
    "factorint(p)"
   ]
  },
  {
   "cell_type": "code",
   "execution_count": 13,
   "id": "a07b9be0",
   "metadata": {},
   "outputs": [
    {
     "data": {
      "text/plain": [
       "True"
      ]
     },
     "execution_count": 13,
     "metadata": {},
     "output_type": "execute_result"
    }
   ],
   "source": [
    "p1 < p2"
   ]
  },
  {
   "cell_type": "code",
   "execution_count": 14,
   "id": "97a55195",
   "metadata": {},
   "outputs": [
    {
     "data": {
      "text/plain": [
       "True"
      ]
     },
     "execution_count": 14,
     "metadata": {},
     "output_type": "execute_result"
    }
   ],
   "source": [
    "p1**3 > p2"
   ]
  },
  {
   "cell_type": "code",
   "execution_count": null,
   "id": "58475ac2",
   "metadata": {},
   "outputs": [],
   "source": [
    "def generator(p, fact):\n",
    "    while true:\n",
    "        g = random.randint(1, 10**699 - 1)\n",
    "    "
   ]
  },
  {
   "cell_type": "code",
   "execution_count": null,
   "id": "e14bc42b",
   "metadata": {},
   "outputs": [],
   "source": [
    "def sieve_of_eratosthenes(limit):\n",
    "    sieve = [True] * (limit + 1)\n",
    "    sieve[0] = sieve[1] = False\n",
    "    for i in range(2, int(limit ** 0.5) + 1):\n",
    "        if sieve[i]:\n",
    "            for j in range(i * i, limit + 1, i):\n",
    "                sieve[j] = False\n",
    "    return [i for i in range(limit + 1) if sieve[i]]"
   ]
  },
  {
   "cell_type": "code",
   "execution_count": 16,
   "id": "8d9daf36",
   "metadata": {},
   "outputs": [
    {
     "ename": "OverflowError",
     "evalue": "cannot fit 'int' into an index-sized integer",
     "output_type": "error",
     "traceback": [
      "\u001b[0;31m---------------------------------------------------------------------------\u001b[0m",
      "\u001b[0;31mOverflowError\u001b[0m                             Traceback (most recent call last)",
      "\u001b[0;32m<ipython-input-16-3a773f1b1b31>\u001b[0m in \u001b[0;36m<module>\u001b[0;34m\u001b[0m\n\u001b[0;32m----> 1\u001b[0;31m \u001b[0msieve_of_eratosthenes\u001b[0m\u001b[0;34m(\u001b[0m\u001b[0;36m16410539443920868419214533210582079504444041938177388194732197402704915394594317947901793331980293705191982538277267486648308692367608359034176913194510473054144869548751537372399724755615368002879763688917551157638715101135477566632085488322743272681272631287299612089416253851858524050535321000446439905382963822477432348398334\u001b[0m\u001b[0;34m)\u001b[0m\u001b[0;34m\u001b[0m\u001b[0;34m\u001b[0m\u001b[0m\n\u001b[0m",
      "\u001b[0;32m<ipython-input-6-ebf17715ae4d>\u001b[0m in \u001b[0;36msieve_of_eratosthenes\u001b[0;34m(limit)\u001b[0m\n\u001b[1;32m      2\u001b[0m \u001b[0;34m\u001b[0m\u001b[0m\n\u001b[1;32m      3\u001b[0m \u001b[0;32mdef\u001b[0m \u001b[0msieve_of_eratosthenes\u001b[0m\u001b[0;34m(\u001b[0m\u001b[0mlimit\u001b[0m\u001b[0;34m)\u001b[0m\u001b[0;34m:\u001b[0m\u001b[0;34m\u001b[0m\u001b[0;34m\u001b[0m\u001b[0m\n\u001b[0;32m----> 4\u001b[0;31m     \u001b[0msieve\u001b[0m \u001b[0;34m=\u001b[0m \u001b[0;34m[\u001b[0m\u001b[0;32mTrue\u001b[0m\u001b[0;34m]\u001b[0m \u001b[0;34m*\u001b[0m \u001b[0;34m(\u001b[0m\u001b[0mlimit\u001b[0m \u001b[0;34m+\u001b[0m \u001b[0;36m1\u001b[0m\u001b[0;34m)\u001b[0m\u001b[0;34m\u001b[0m\u001b[0;34m\u001b[0m\u001b[0m\n\u001b[0m\u001b[1;32m      5\u001b[0m     \u001b[0msieve\u001b[0m\u001b[0;34m[\u001b[0m\u001b[0;36m0\u001b[0m\u001b[0;34m]\u001b[0m \u001b[0;34m=\u001b[0m \u001b[0msieve\u001b[0m\u001b[0;34m[\u001b[0m\u001b[0;36m1\u001b[0m\u001b[0;34m]\u001b[0m \u001b[0;34m=\u001b[0m \u001b[0;32mFalse\u001b[0m\u001b[0;34m\u001b[0m\u001b[0;34m\u001b[0m\u001b[0m\n\u001b[1;32m      6\u001b[0m     \u001b[0;32mfor\u001b[0m \u001b[0mi\u001b[0m \u001b[0;32min\u001b[0m \u001b[0mrange\u001b[0m\u001b[0;34m(\u001b[0m\u001b[0;36m2\u001b[0m\u001b[0;34m,\u001b[0m \u001b[0mint\u001b[0m\u001b[0;34m(\u001b[0m\u001b[0mlimit\u001b[0m \u001b[0;34m**\u001b[0m \u001b[0;36m0.5\u001b[0m\u001b[0;34m)\u001b[0m \u001b[0;34m+\u001b[0m \u001b[0;36m1\u001b[0m\u001b[0;34m)\u001b[0m\u001b[0;34m:\u001b[0m\u001b[0;34m\u001b[0m\u001b[0;34m\u001b[0m\u001b[0m\n",
      "\u001b[0;31mOverflowError\u001b[0m: cannot fit 'int' into an index-sized integer"
     ]
    }
   ],
   "source": [
    "sieve_of_eratosthenes(16410539443920868419214533210582079504444041938177388194732197402704915394594317947901793331980293705191982538277267486648308692367608359034176913194510473054144869548751537372399724755615368002879763688917551157638715101135477566632085488322743272681272631287299612089416253851858524050535321000446439905382963822477432348398334)"
   ]
  },
  {
   "cell_type": "code",
   "execution_count": null,
   "id": "dcff938e",
   "metadata": {},
   "outputs": [],
   "source": []
  },
  {
   "cell_type": "code",
   "execution_count": null,
   "id": "43968056",
   "metadata": {},
   "outputs": [],
   "source": []
  },
  {
   "cell_type": "code",
   "execution_count": null,
   "id": "a750566a",
   "metadata": {},
   "outputs": [],
   "source": [
    "import random\n",
    "\n",
    "def letter_to_number(letter):\n",
    "  \"\"\"\n",
    "  Transforms a letter to its corresponding number encoding as defined in the problem.\n",
    "\n",
    "  Args:\n",
    "    letter: The letter to encode (A-Z, space, 0-9, ., ,, ?). Case-insensitive.\n",
    "\n",
    "  Returns:\n",
    "    The integer representation of the letter, or None if the letter is not valid.\n",
    "  \"\"\"\n",
    "\n",
    "  letter = letter.upper()  # Ensure case-insensitivity\n",
    "\n",
    "  if 'A' <= letter <= 'Z':\n",
    "    return ord(letter) - ord('A') + 11\n",
    "  elif letter == ' ':\n",
    "    return 41\n",
    "  elif '0' <= letter <= '9':\n",
    "    return ord(letter) - ord('0') + 42  # 0 starts at 42\n",
    "  elif letter == '.':\n",
    "    return 43\n",
    "  elif letter == ',':\n",
    "    return 44\n",
    "  elif letter == '?':\n",
    "    return 45\n",
    "  else:\n",
    "    return None  # Indicate an invalid letter\n",
    "\n",
    "\n",
    "def number_to_letter(number):\n",
    "    \"\"\"\n",
    "    Transforms a number back to its corresponding letter.\n",
    "\n",
    "    Args:\n",
    "        number: The number to decode.\n",
    "\n",
    "    Returns:\n",
    "        The letter or symbol corresponding to the number, or None if the number is invalid.\n",
    "    \"\"\"\n",
    "\n",
    "    if 11 <= number <= 36:\n",
    "        return chr(number - 11 + ord('A'))\n",
    "    elif number == 41:\n",
    "        return ' '\n",
    "    elif 42 <= number <= 51:\n",
    "        return str(number - 42)\n",
    "    elif number == 43:\n",
    "        return '.'\n",
    "    elif number == 44:\n",
    "        return ','\n",
    "    elif number == 45:\n",
    "        return '?'\n",
    "    else:\n",
    "        return None\n",
    "\n",
    "def encrypt_message(message, g, p, B):\n",
    "    \"\"\"Encrypts a message using the provided parameters and letter-to-number encoding.\"\"\"\n",
    "    encrypted = []\n",
    "    for letter in message:\n",
    "        x = letter_to_number(letter)\n",
    "        if x is None:\n",
    "            print(f\"Encryption Error: Invalid character in message: {letter}\")\n",
    "            return None # Or raise an exception if desired\n",
    "\n",
    "        a = random.randint(10**698, 10**699 - 1)\n",
    "        A = pow(g, a, p)\n",
    "        k = pow(B, a, p)\n",
    "        y = (x * k) % p\n",
    "        encrypted.append((y, A))\n",
    "        print(f\"Encrypt {letter} ({x}): (y, A) = ({y}, {A})\")  #Added {letter} and ({x}) to the output\n",
    "\n",
    "    return encrypted\n",
    "\n",
    "\n",
    "def decrypt_message(encrypted, b, p):\n",
    "    \"\"\"Decrypts a ciphertext using the private key b and modulus p.\"\"\"\n",
    "    decrypted = []\n",
    "    for y, A in encrypted:\n",
    "        k = pow(A, b, p)\n",
    "        k_inv = mod_inverse(k, p)\n",
    "        z = (y * k_inv) % p\n",
    "        decrypted.append(z)\n",
    "        print(f\"Decrypt (y, A) = ({y}, {A}): z = {z}\") # No change to the existing print.\n",
    "\n",
    "    return decrypted\n",
    "\n",
    "def decode_numbers_to_message(numbers):\n",
    "  \"\"\"\n",
    "  Decodes a list of numbers back into a message string.\n",
    "\n",
    "  Args:\n",
    "    numbers: A list of integers representing the encoded message.\n",
    "\n",
    "  Returns:\n",
    "    The decoded message string.\n",
    "  \"\"\"\n",
    "  message_decoded = ''\n",
    "  for z in numbers:\n",
    "      letter = number_to_letter(z)\n",
    "      if letter is None:\n",
    "          print(f\"Decoding Error: Invalid number during decoding: {z}\")\n",
    "          return None  #Abort decoding if an invalid number is found.\n",
    "      message_decoded += letter\n",
    "  return message_decoded\n",
    "\n",
    "def mod_inverse(a, m):\n",
    "    \"\"\"Modular inverse of a modulo m.\"\"\"\n",
    "    m0 = m\n",
    "    y = 0\n",
    "    x = 1\n",
    "\n",
    "    if m == 1:\n",
    "        return 0\n",
    "\n",
    "    while a > 1:\n",
    "        q = a // m\n",
    "        t = m\n",
    "\n",
    "        m = a % m\n",
    "        a = t\n",
    "        t = y\n",
    "\n",
    "        y = x - q * y\n",
    "        x = t\n",
    "\n",
    "    if x < 0:\n",
    "        x = x + m0\n",
    "\n",
    "    return x\n",
    "\n",
    "if __name__ == '__main__':\n",
    "    # Example usage:\n",
    "    message = \"Bobs public key, calculated from g, b and p\"\n",
    "    p = 2357  # Example prime number\n",
    "    g = 2     # Example generator\n",
    "    b = 777     # Bob's private key\n",
    "    B = pow(g, b, p) # Bob's public key, calculated from g, b and p\n",
    "\n",
    "    # Encryption\n",
    "    message = message.upper()\n",
    "    encrypted = encrypt_message(message, g, p, B)\n",
    "\n",
    "    if encrypted: # Only decrypt if encryption was successful\n",
    "        print(\"=========================================================\")\n",
    "        # Decryption\n",
    "        decrypted = decrypt_message(encrypted, b, p)\n",
    "        print(\"=========================================================\")\n",
    "        # Decoding\n",
    "        message_decoded = decode_numbers_to_message(decrypted)\n",
    "        print(\"=========================================================\")\n",
    "        if message_decoded:\n",
    "            print(f\"Original: {message}\")\n",
    "            print(\"=========================================================\")\n",
    "            print(f\"Decrypted: {message_decoded}\")\n",
    "            print(\"=========================================================\")\n",
    "        else:\n",
    "            print(\"Decoding failed.\")\n",
    "    else:\n",
    "        print(\"Encryption failed.\")"
   ]
  },
  {
   "cell_type": "code",
   "execution_count": null,
   "id": "1a2955af",
   "metadata": {},
   "outputs": [],
   "source": []
  },
  {
   "cell_type": "code",
   "execution_count": null,
   "id": "298d919d",
   "metadata": {},
   "outputs": [],
   "source": [
    "def letters_to_numbers(input_string):\n",
    "    \"\"\"Converts letters (Space, A-Z) to numbers (00-36).\"\"\"\n",
    "    letter_map = {11: 'A', 12: 'B', 13: 'C', 14: 'D', 15: 'E', 16: 'F', 17: 'G', 18: 'H', 19: 'I',\n",
    "            20: 'J', 21: 'K', 22: 'L', 23: 'M', 24: 'N', 25: 'O', 26: 'P', 27: 'Q', 28: 'R',\n",
    "            29: 'S', 30: 'T', 31: 'U', 32: 'V', 33: 'W', 34: 'X', 35: 'Y', 36: 'Z', 41: ' '}\n",
    "    number_string = \"\"\n",
    "    for char in input_string:\n",
    "        if char in letter_map:\n",
    "            number_string += letter_map[char]\n",
    "        else:\n",
    "            raise ValueError(f\"Character '{char}' is not supported.\")\n",
    "    return int(number_string)\n",
    "\n",
    "\n",
    "def numbers_to_letters(input_string):\n",
    "    \"\"\"Converts numbers (00-36) to letters (Space, A-Z).\"\"\"\n",
    "    letter_map = {11: 'A', 12: 'B', 13: 'C', 14: 'D', 15: 'E', 16: 'F', 17: 'G', 18: 'H', 19: 'I',\n",
    "            20: 'J', 21: 'K', 22: 'L', 23: 'M', 24: 'N', 25: 'O', 26: 'P', 27: 'Q', 28: 'R',\n",
    "            29: 'S', 30: 'T', 31: 'U', 32: 'V', 33: 'W', 34: 'X', 35: 'Y', 36: 'Z', 41: ' '}\n",
    "    message = \"\"\n",
    "    input_string = str(input_string)\n",
    "    for i in range(0, len(input_string), 2):\n",
    "        pair = input_string[i:i+2]\n",
    "        for key, value in letter_map.items():\n",
    "            if key == pair:\n",
    "                message += value\n",
    "                break\n",
    "    return message"
   ]
  },
  {
   "cell_type": "code",
   "execution_count": null,
   "id": "aa9e6062",
   "metadata": {},
   "outputs": [],
   "source": [
    "# Encrypt \"HI\"\n",
    "message = \"HI \"\n",
    "plaintext = [18, 19]\n",
    "ciphertext = []\n",
    "for x in plaintext:\n",
    "    a = random.randint(10**698, 10**699 - 1)\n",
    "    A = pow(g, a, p)\n",
    "    k = pow(B, a, p)\n",
    "    y = (x * k) % p\n",
    "    ciphertext.append((y, A))\n",
    "    print(f\"Encrypt {x}: (y, A) = ({y}, {A})\")\n",
    "\n",
    "# Decrypt\n",
    "decrypted = []\n",
    "for y, A in ciphertext:\n",
    "    k = pow(A, b, p)\n",
    "    k_inv = mod_inverse(k, p)\n",
    "    z = (y * k_inv) % p\n",
    "    decrypted.append(z)\n",
    "    print(f\"Decrypt (y, A) = ({y}, {A}): z = {z}\")\n",
    "\n",
    "message_decoded = ''.join(encoding[z] for z in decrypted)\n",
    "print(f\"Original: {message}\")\n",
    "print(f\"Decrypted: {message_decoded}\")"
   ]
  },
  {
   "cell_type": "code",
   "execution_count": null,
   "id": "a968d6bf",
   "metadata": {},
   "outputs": [],
   "source": []
  }
 ],
 "metadata": {
  "kernelspec": {
   "display_name": "Python 3",
   "language": "python",
   "name": "python3"
  },
  "language_info": {
   "codemirror_mode": {
    "name": "ipython",
    "version": 3
   },
   "file_extension": ".py",
   "mimetype": "text/x-python",
   "name": "python",
   "nbconvert_exporter": "python",
   "pygments_lexer": "ipython3",
   "version": "3.9.2"
  }
 },
 "nbformat": 4,
 "nbformat_minor": 5
}
