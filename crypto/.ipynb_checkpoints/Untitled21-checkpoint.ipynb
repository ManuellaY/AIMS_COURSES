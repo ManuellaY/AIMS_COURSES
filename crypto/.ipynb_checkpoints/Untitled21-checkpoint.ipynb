{
 "cells": [
  {
   "cell_type": "code",
   "execution_count": null,
   "metadata": {
    "id": "fAh4lLySZ3HV"
   },
   "outputs": [],
   "source": [
    "from math import *"
   ]
  },
  {
   "cell_type": "code",
   "execution_count": null,
   "metadata": {
    "id": "KoUV_O0HdI5C"
   },
   "outputs": [],
   "source": [
    "from IPython import get_ipython\n",
    "from IPython.display import display\n",
    "from sympy import factorint\n",
    "import numpy as np\n",
    "\n",
    "\n",
    "def Extended_Euclidean(a,b):\n",
    "  old_r = a\n",
    "  old_u = 1\n",
    "  old_v = 0\n",
    "  r = b\n",
    "  u = 0\n",
    "  v = 1\n",
    "\n",
    "  while r != 0:\n",
    "    quotient = old_r // r\n",
    "    old_r, r = r, old_r - quotient * r\n",
    "    old_u, u = u, old_u - quotient * u\n",
    "    old_v, v = v, old_v - quotient * v\n",
    "\n",
    "  d = old_r\n",
    "  u = old_u\n",
    "  v = v\n",
    "\n",
    "\n",
    "  return u, v, d\n",
    "\n",
    "\n",
    "def inverse(a, n):\n",
    "  u, v, d = Extended_Euclidean(a, n)\n",
    "  if d != 1:\n",
    "    return \"a is not invertible in Z/nZ\"\n",
    "  return u % n\n",
    "\n",
    "\n"
   ]
  },
  {
   "cell_type": "code",
   "execution_count": null,
   "metadata": {
    "id": "62N8t_01kF45"
   },
   "outputs": [],
   "source": [
    "def baby_giant_step(x, g, d, p):\n",
    "  m = floor(sqrt(d)) + 1\n",
    "  baby = [0] * (m+2)\n",
    "  giant = []\n",
    "  belong = False\n",
    "  print(\"m = \", m)\n",
    "  for i in range(m+2):\n",
    "    baby[i] = (x * pow(g, i)) % p\n",
    "  print(baby[m+1])\n",
    "  gi = (baby[m+1]* inverse(x, p)) % p\n",
    "  gim = gi\n",
    "  print(gi)\n",
    "  giant.append(gi)\n",
    "\n",
    "  iteration_count, j = 1, 1\n",
    "  while belong == False and iteration_count < 1000:\n",
    "    gim = (gim * gi) % p\n",
    "    iteration_count += 1\n",
    "    #print(f\"Iteration: {iteration_count}, g = {gi}\")\n",
    "\n",
    "    if gim in baby:\n",
    "      j += 1\n",
    "      belong = True\n",
    "    else:\n",
    "      giant.append(gim)\n",
    "\n",
    "  n = (iteration_count) * m - j\n",
    "\n",
    "  return baby, giant, n"
   ]
  },
  {
   "cell_type": "code",
   "execution_count": null,
   "metadata": {
    "colab": {
     "base_uri": "https://localhost:8080/"
    },
    "id": "AnwotL5yY5dz",
    "outputId": "2a6e6d6d-7ef9-4383-f99d-945bee11f20f"
   },
   "outputs": [
    {
     "name": "stdout",
     "output_type": "stream",
     "text": [
      "m =  2\n",
      "107.0\n",
      "188.0\n"
     ]
    },
    {
     "data": {
      "text/plain": [
       "([188.0, 71.0, 1.0, 107.0], [188.0], 2)"
      ]
     },
     "execution_count": 25,
     "metadata": {},
     "output_type": "execute_result"
    }
   ],
   "source": [
    "baby_giant_step(188, 107, 2, 211)"
   ]
  },
  {
   "cell_type": "code",
   "execution_count": null,
   "metadata": {
    "colab": {
     "base_uri": "https://localhost:8080/"
    },
    "id": "5jfEUlNEY5Ql",
    "outputId": "04d0f350-1c5a-49bd-88ca-79912fdeff46"
   },
   "outputs": [
    {
     "data": {
      "text/plain": [
       "188"
      ]
     },
     "execution_count": 18,
     "metadata": {},
     "output_type": "execute_result"
    }
   ],
   "source": [
    "(107* inverse(188, 211)) % 211"
   ]
  },
  {
   "cell_type": "code",
   "execution_count": null,
   "metadata": {
    "colab": {
     "base_uri": "https://localhost:8080/"
    },
    "id": "fVmvsKYNY5AN",
    "outputId": "7f5ddc1a-7ae4-4ec6-921f-c0096099979a"
   },
   "outputs": [
    {
     "name": "stdout",
     "output_type": "stream",
     "text": [
      "m =  5\n",
      "13.0\n",
      "14.0\n"
     ]
    },
    {
     "data": {
      "text/plain": [
       "([17.0, 9.0, 18.0, 11.0, 22.0, 19.0, 13.0], [14.0, 21.0, 19.0], 13)"
      ]
     },
     "execution_count": 19,
     "metadata": {},
     "output_type": "execute_result"
    }
   ],
   "source": [
    "baby_giant_step(17, 2, 20, 25)"
   ]
  },
  {
   "cell_type": "code",
   "execution_count": null,
   "metadata": {
    "id": "MYbrUlCpsQsD"
   },
   "outputs": [],
   "source": [
    "p = 2*3*5*7 + 1"
   ]
  },
  {
   "cell_type": "code",
   "execution_count": null,
   "metadata": {
    "colab": {
     "base_uri": "https://localhost:8080/"
    },
    "id": "3hz7K6kmsFd4",
    "outputId": "a07cf8a3-766c-42ed-cac3-97cf297f1216"
   },
   "outputs": [
    {
     "data": {
      "text/plain": [
       "210.0"
      ]
     },
     "execution_count": 4,
     "metadata": {},
     "output_type": "execute_result"
    }
   ],
   "source": [
    "pow(2, (p-1)/2) % p"
   ]
  },
  {
   "cell_type": "code",
   "execution_count": null,
   "metadata": {
    "colab": {
     "base_uri": "https://localhost:8080/"
    },
    "id": "q5S7z2edUPs5",
    "outputId": "7556fd9d-04bc-439c-dc44-1ba09702cf58"
   },
   "outputs": [
    {
     "name": "stdout",
     "output_type": "stream",
     "text": [
      "The discrete logarithm of 17 to the base 2 modulo 25 is: 13\n"
     ]
    }
   ],
   "source": [
    "from math import ceil, sqrt\n",
    "\n",
    "def extended_gcd(a, b):\n",
    "    \"\"\"\n",
    "    Extended Euclidean Algorithm to find the greatest common divisor (GCD)\n",
    "    and the coefficients x and y that satisfy ax + by = gcd(a, b).\n",
    "    \"\"\"\n",
    "    if a == 0:\n",
    "        return b, 0, 1\n",
    "\n",
    "    gcd, x1, y1 = extended_gcd(b % a, a)\n",
    "    x = y1 - (b // a) * x1\n",
    "    y = x1\n",
    "\n",
    "    return gcd, x, y\n",
    "\n",
    "def mod_inverse(a, m):\n",
    "    \"\"\"\n",
    "    Modular inverse of a modulo m.  Returns None if the inverse does not exist.\n",
    "    \"\"\"\n",
    "    gcd, x, y = extended_gcd(a, m)\n",
    "    if gcd != 1:\n",
    "        return None  # a and m are not coprime, so the inverse doesn't exist\n",
    "    else:\n",
    "        return x % m\n",
    "\n",
    "def baby_step_giant_step(x, g, d, p):\n",
    "    \"\"\"\n",
    "    Baby-step giant-step algorithm for computing the discrete logarithm.\n",
    "\n",
    "    Input:\n",
    "    - x: The group element whose discrete logarithm we want to find (i.e., x = g^k mod p).\n",
    "    - g: The generator of the cyclic group.\n",
    "    - d: The order of the generator g (i.e., g^d = 1 mod p).\n",
    "    - p: The prime modulus.\n",
    "\n",
    "    Output:\n",
    "    - The discrete logarithm k such that g^k = x mod p. Returns None if not found.\n",
    "    \"\"\"\n",
    "\n",
    "    m = ceil(sqrt(d))  # Step 1: m = ceil(sqrt(d))\n",
    "\n",
    "    # Step 2: Baby steps: compute and store g^j for j = 0, 1, ..., m-1 in a dictionary (hash table)\n",
    "    baby_steps = {}\n",
    "    for j in range(m):\n",
    "        val = pow(g, j, p)\n",
    "        baby_steps[val] = j  # Store g^j and j\n",
    "\n",
    "    # Compute g^(-m) mod p  (g_neg_m)\n",
    "    g_m = pow(g, m, p)\n",
    "    g_neg_m = mod_inverse(g_m, p)\n",
    "\n",
    "    if g_neg_m is None:\n",
    "        return None  # Inverse doesn't exist, algorithm fails\n",
    "\n",
    "    #Giant Step\n",
    "    y = x % p\n",
    "    for i in range(m):\n",
    "        if y in baby_steps:\n",
    "            j = baby_steps[y]\n",
    "            k = (i * m + j) % d\n",
    "            return k\n",
    "        y = (y * g_neg_m) % p\n",
    "\n",
    "    return None  # Discrete logarithm not found\n",
    "\n",
    "\n",
    "# Example usage (assuming you have suitable x, g, d, p values):\n",
    "x = 17\n",
    "g = 2\n",
    "d = 20\n",
    "p = 25\n",
    "\n",
    "discrete_log = baby_step_giant_step(x, g, d, p)\n",
    "\n",
    "if discrete_log is not None:\n",
    "    print(f\"The discrete logarithm of {x} to the base {g} modulo {p} is: {discrete_log}\")\n",
    "else:\n",
    "    print(f\"The discrete logarithm of {x} to the base {g} modulo {p} was not found.\")"
   ]
  },
  {
   "cell_type": "code",
   "execution_count": null,
   "metadata": {
    "colab": {
     "base_uri": "https://localhost:8080/"
    },
    "id": "3lXnf8BeUPnx",
    "outputId": "3ab1ea9c-37f1-44b0-d886-e258d7170edb"
   },
   "outputs": [
    {
     "data": {
      "text/plain": [
       "1"
      ]
     },
     "execution_count": 4,
     "metadata": {},
     "output_type": "execute_result"
    }
   ],
   "source": [
    "baby_step_giant_step(188, 107, 2, 211)"
   ]
  },
  {
   "cell_type": "code",
   "execution_count": null,
   "metadata": {
    "id": "GkHrz6DckC68"
   },
   "outputs": [],
   "source": []
  },
  {
   "cell_type": "code",
   "execution_count": null,
   "metadata": {
    "id": "nMLMdhoYkC2U"
   },
   "outputs": [],
   "source": []
  },
  {
   "cell_type": "markdown",
   "metadata": {
    "id": "Ln07om9AkEmb"
   },
   "source": [
    "Exercice 2.\n",
    "\n",
    " Bob intercepts from Alice the following encrypted message:\n",
    "[[83025882561049910713, 66740266984208729661];\n",
    "\n",
    "[117087132399404660932, 44242256035307267278];\n",
    "\n",
    "[67508282043396028407, 77559274822593376192];\n",
    "\n",
    "[60938739831689454113, 14528504156719159785];\n",
    "\n",
    "[5059840044561914427, 59498668430421643612];\n",
    "\n",
    "[92232942954165956522, 105988641027327945219];\n",
    "\n",
    "[97102226574752360229, 46166643538418294423]]\n",
    "\n",
    "To communicate privately, Alice and Bob are using Elgamal cryptosystem. They have\n",
    "choosen the cyclique group Fp where\n",
    "\n",
    "p = 123456789987654353003\n",
    "\n",
    "and generated by\n",
    "\n",
    "g = 123456789.\n",
    "Their public keys are the following respectively:\n",
    "\n",
    "gA = 52808579942366933355, gB = 39318628345168608817.\n",
    "\n",
    "Knowing that Alice and Bob agreed that: Each message consists of a single letter which is\n",
    "encoded as:\n",
    "\n",
    "A = 11, B = 12, . . . , Z = 36, space = 41,\n",
    "\n",
    "0 = 42, . = 43, , = 44, ? = 45.\n",
    "\n",
    "can you help Bob to decrypt the message?"
   ]
  },
  {
   "cell_type": "code",
   "execution_count": null,
   "metadata": {
    "id": "5XbTA8FDnTZY"
   },
   "outputs": [],
   "source": [
    "import random\n",
    "import math\n",
    "\n",
    "def extended_gcd(a, b):\n",
    "    \"\"\"\n",
    "    Extended Euclidean Algorithm to find the greatest common divisor (GCD)\n",
    "    and coefficients x and y such that ax + by = GCD(a, b).\n",
    "\n",
    "    Args:\n",
    "        a: The first integer.\n",
    "        b: The second integer.\n",
    "\n",
    "    Returns:\n",
    "        A tuple (gcd, x, y) where:\n",
    "            gcd: The greatest common divisor of a and b.\n",
    "            x: Coefficient such that ax + by = gcd.\n",
    "            y: Coefficient such that ax + by = gcd.\n",
    "    \"\"\"\n",
    "    if a == 0:\n",
    "        return b, 0, 1\n",
    "    gcd, x1, y1 = extended_gcd(b % a, a)\n",
    "    x = y1 - (b // a) * x1\n",
    "    y = x1\n",
    "    return gcd, x, y\n",
    "\n",
    "def modular_inverse(a, m):\n",
    "    \"\"\"\n",
    "    Calculates the modular inverse of a modulo m using the Extended Euclidean Algorithm.\n",
    "\n",
    "    Args:\n",
    "        a: The integer for which to find the inverse.\n",
    "        m: The modulus.\n",
    "\n",
    "    Returns:\n",
    "        The modular inverse of a modulo m, or None if the inverse doesn't exist.\n",
    "    \"\"\"\n",
    "    gcd, x, _ = extended_gcd(a, m)\n",
    "    if gcd != 1:\n",
    "        return None  # a and m are not coprime, so the inverse doesn't exist\n",
    "    else:\n",
    "        return x % m  # Ensure the result is within the range [0, m-1]\n",
    "\n",
    "def elgamal_decrypt_v2(ciphertext, sk, p, g):\n",
    "  \"\"\"Decrypts an ElGamal ciphertext using Protocol 4.5.\n",
    "\n",
    "  Args:\n",
    "    ciphertext: The ciphertext, a list of tuples [(y1, A1), (y2, A2), ...].\n",
    "    sk: The secret key (b).\n",
    "    p: The prime modulus (d).\n",
    "    g: The generator element.\n",
    "\n",
    "  Returns:\n",
    "    The decrypted message as a string.\n",
    "  \"\"\"\n",
    "\n",
    "  decrypted_message = \"\"\n",
    "  for y, A in ciphertext:\n",
    "    # 7. Session key k ← A^b, inverse k−1 ∈ G of the shared session key.\n",
    "    k = pow(A, sk, p)\n",
    "    k_inv = modular_inverse(k, p)\n",
    "\n",
    "    if k_inv is None:\n",
    "      print(\"Error: Modular inverse of k does not exist.\")\n",
    "      return None\n",
    "\n",
    "    # 8. z ← y · k−1.\n",
    "    z = (y * k_inv) % p\n",
    "\n",
    "    # Convert the numerical message back into characters\n",
    "    if 11 <= z <= 36:\n",
    "        decrypted_message += chr(int(z) + ord('A') - 11)\n",
    "    elif z == 41:\n",
    "        decrypted_message += \" \"\n",
    "    elif z == 42:\n",
    "        decrypted_message += \"0\"\n",
    "    elif z == 43:\n",
    "        decrypted_message += \".\"\n",
    "    elif z == 44:\n",
    "        decrypted_message += \",\"\n",
    "    elif z == 45:\n",
    "        decrypted_message += \"?\"\n",
    "    else:\n",
    "        decrypted_message = \"error\"\n",
    "\n",
    "\n",
    "  return decrypted_message\n",
    "\n",
    "def baby_step_giant_step(g, g_b, p):\n",
    "    \"\"\"\n",
    "    Solve the discrete logarithm problem using the Baby-Step Giant-Step algorithm.\n",
    "    Find x such that g^x = g_b mod p.\n",
    "    This is feasible only for relatively small p.\n",
    "\n",
    "    Args:\n",
    "        g: The generator.\n",
    "        g_b: g^b mod p, the public key.\n",
    "        p: The prime modulus.\n",
    "\n",
    "    Returns:\n",
    "        The secret key b, or None if not found.\n",
    "    \"\"\"\n",
    "\n",
    "    m = int(math.sqrt(p)) + 1\n",
    "\n",
    "    # Baby step: Store g^(j) mod p for 0 <= j < m\n",
    "    baby_steps = {}\n",
    "    for j in range(m):\n",
    "        baby_steps[pow(g, j, p)] = j\n",
    "\n",
    "    # Giant step: Compute (g^(-m)) mod p\n",
    "    g_inv_m = modular_inverse(pow(g, m, p), p)\n",
    "    if g_inv_m is None:\n",
    "        print(\"Error: Modular inverse does not exist in baby-step giant-step.\")\n",
    "        return None\n",
    "\n",
    "    # Giant step: Search for k such that g_b * (g^(-m))^k mod p is in the baby steps table\n",
    "    y = g_b\n",
    "    for k in range(m):\n",
    "        if y in baby_steps:\n",
    "            j = baby_steps[y]\n",
    "            b = k * m + j  # b = j + k*m\n",
    "            return b\n",
    "        y = (y * g_inv_m) % p\n",
    "\n",
    "    return None # No solution found\n",
    "\n",
    "\n",
    "# Given values\n",
    "p = 123456789987654353003\n",
    "g = 123456789\n",
    "gA = 52808579942366933355\n",
    "gB = 39318628345168608817\n",
    "\n",
    "ciphertext = [\n",
    "    (66740266984208729661, 83025882561049910713),\n",
    "    (44242256035307267278, 117087132399404660932),\n",
    "    (77559274822593376192, 67508282043396028407),\n",
    "    (14528504156719159785, 60938739831689454113),\n",
    "    (59498668430421643612, 5059840044561914427),\n",
    "    (105988641027327945219, 92232942954165956522),\n",
    "    (46166643538418294423, 97102226574752360229)\n",
    "]\n",
    "\n",
    "# Recover Bob's Secret Key using baby-step giant-step\n",
    "sk = baby_step_giant_step(g, gB, p)\n",
    "print(f\"Bob's Secret Key (sk): {sk}\")\n",
    "\n",
    "if sk:\n",
    "    # Decrypt the message\n",
    "    decrypted_message = elgamal_decrypt_v2(ciphertext, sk, p, g)\n",
    "\n",
    "    print(f\"Decrypted Message: {decrypted_message}\")\n",
    "else:\n",
    "    print(\"Decryption failed due to secret key retrieval failure.\")"
   ]
  },
  {
   "cell_type": "code",
   "execution_count": null,
   "metadata": {
    "colab": {
     "base_uri": "https://localhost:8080/"
    },
    "id": "QXgHO5wNnT22",
    "outputId": "53505410-015d-494b-f8e9-bddfbf32dcd5"
   },
   "outputs": [
    {
     "name": "stdout",
     "output_type": "stream",
     "text": [
      "Error: Bob's private key 'b' is not provided. Please provide 'b' to decrypt.\n"
     ]
    }
   ],
   "source": [
    "def mod_inverse(a, m):\n",
    "    \"\"\"Compute the modular inverse of a modulo m using the extended Euclidean algorithm.\"\"\"\n",
    "    def extended_gcd(a, b):\n",
    "        if a == 0:\n",
    "            return b, 0, 1\n",
    "        gcd, x1, y1 = extended_gcd(b % a, a)\n",
    "        x = y1 - (b // a) * x1\n",
    "        y = x1\n",
    "        return gcd, x, y\n",
    "\n",
    "    _, x, _ = extended_gcd(a, m)\n",
    "    return (x % m + m) % m  # Ensure the result is positive\n",
    "\n",
    "def decrypt_elgamal(y, A, b, p):\n",
    "    \"\"\"Decrypt a single ElGamal ciphertext pair (y, A) using private key b modulo p.\"\"\"\n",
    "    # k = A^b mod p\n",
    "    k = pow(A, b, p)\n",
    "    # k^-1 mod p\n",
    "    k_inv = mod_inverse(k, p)\n",
    "    # z = y * k^-1 mod p\n",
    "    z = (y * k_inv) % p\n",
    "    return z\n",
    "\n",
    "def decode_message(z):\n",
    "    \"\"\"Map the decrypted number to the corresponding character.\"\"\"\n",
    "    encoding = {\n",
    "        11: 'A', 12: 'B', 13: 'C', 14: 'D', 15: 'E', 16: 'F', 17: 'G', 18: 'H', 19: 'I',\n",
    "        20: 'J', 21: 'K', 22: 'L', 23: 'M', 24: 'N', 25: 'O', 26: 'P', 27: 'Q', 28: 'R',\n",
    "        29: 'S', 30: 'T', 31: 'U', 32: 'V', 33: 'W', 34: 'X', 35: 'Y', 36: 'Z',\n",
    "        41: ' ', 42: '0', 43: '.', 44: ',', 45: '?'\n",
    "    }\n",
    "    return encoding.get(z, f'[Unknown: {z}]')  # Return character or unknown value\n",
    "\n",
    "# Given parameters\n",
    "p = 123456789987654353003\n",
    "g = 123456789\n",
    "gB = 39318628345168608817  # Bob's public key B = g^b\n",
    "\n",
    "# Ciphertext: list of (y, A) pairs (adjusted from problem's (c1, c2) where c1 = A, c2 = y)\n",
    "ciphertext = [\n",
    "    (66740266984208729661, 83025882561049910713),\n",
    "    (44242256035307267278, 117087132399404660932),\n",
    "    (77559274822593376192, 67508282043396028407),\n",
    "    (14528504156719159785, 60938739831689454113),\n",
    "    (59498668430421643612, 5059840044561914427),\n",
    "    (105988641027327945219, 92232942954165956522),\n",
    "    (46166643538418294423, 97102226574752360229)\n",
    "]\n",
    "\n",
    "# Bob's private key (YOU NEED TO PROVIDE THIS)\n",
    "b = None  # Placeholder: Replace with the actual private key\n",
    "\n",
    "if b is None:\n",
    "    print(\"Error: Bob's private key 'b' is not provided. Please provide 'b' to decrypt.\")\n",
    "else:\n",
    "    # Decrypt the message\n",
    "    plaintext_nums = []\n",
    "    for y, A in ciphertext:\n",
    "        z = decrypt_elgamal(y, A, b, p)\n",
    "        plaintext_nums.append(z)\n",
    "\n",
    "    # Decode to characters\n",
    "    message = ''.join(decode_message(z) for z in plaintext_nums)\n",
    "\n",
    "    print(\"Decrypted message (numbers):\", plaintext_nums)\n",
    "    print(\"Decoded message:\", message)"
   ]
  },
  {
   "cell_type": "code",
   "execution_count": null,
   "metadata": {
    "id": "GiCJoMQMnTvs"
   },
   "outputs": [],
   "source": []
  },
  {
   "cell_type": "code",
   "execution_count": null,
   "metadata": {
    "colab": {
     "base_uri": "https://localhost:8080/"
    },
    "id": "1_pUVgqgnTsm",
    "outputId": "391c0320-91e9-4594-85fa-ff2db31e89cd"
   },
   "outputs": [
    {
     "name": "stdout",
     "output_type": "stream",
     "text": [
      "Encrypt 18: (y, A) = (449, 625)\n",
      "Encrypt 19: (y, A) = (438, 625)\n",
      "Decrypt (y, A) = (449, 625): z = 18\n",
      "Decrypt (y, A) = (438, 625): z = 19\n",
      "Original: HI\n",
      "Decrypted: HI\n"
     ]
    }
   ],
   "source": [
    "def mod_inverse(a, m):\n",
    "    def extended_gcd(a, b):\n",
    "        if a == 0:\n",
    "            return b, 0, 1\n",
    "        gcd, x1, y1 = extended_gcd(b % a, a)\n",
    "        x = y1 - (b // a) * x1\n",
    "        y = x1\n",
    "        return gcd, x, y\n",
    "    _, x, _ = extended_gcd(a, m)\n",
    "    return (x % m + m) % m\n",
    "\n",
    "def is_prime_sieve_style(n):\n",
    "    if n < 2:\n",
    "        return False\n",
    "    for i in range(2, int(n ** 0.5) + 1):\n",
    "        if n % i == 0:\n",
    "            return False\n",
    "    return True\n",
    "\n",
    "# For demo, use smaller numbers; scale up as needed\n",
    "p1 = 17  # Replace with 349-digit prime\n",
    "p2 = 19  # Replace with 350-digit prime\n",
    "p = 2 * p1 * p2 + 1  # 647 (scale to 700 digits)\n",
    "assert is_prime_sieve_style(p)\n",
    "\n",
    "g = 2\n",
    "b = 123  # Random, scale to 699 digits\n",
    "B = pow(g, b, p)\n",
    "\n",
    "encoding = {11: 'A', 12: 'B', 13: 'C', 14: 'D', 15: 'E', 16: 'F', 17: 'G', 18: 'H', 19: 'I',\n",
    "            20: 'J', 21: 'K', 22: 'L', 23: 'M', 24: 'N', 25: 'O', 26: 'P', 27: 'Q', 28: 'R',\n",
    "            29: 'S', 30: 'T', 31: 'U', 32: 'V', 33: 'W', 34: 'X', 35: 'Y', 36: 'Z', 41: ' '}\n",
    "\n",
    "# Encryption\n",
    "message = \"HI\"\n",
    "plaintext = [18, 19]\n",
    "ciphertext = []\n",
    "for x in plaintext:\n",
    "    a = 45  # Random, scale up\n",
    "    A = pow(g, a, p)\n",
    "    k = pow(B, a, p)\n",
    "    y = (x * k) % p\n",
    "    ciphertext.append((y, A))\n",
    "    print(f\"Encrypt {x}: (y, A) = ({y}, {A})\")\n",
    "\n",
    "# Decryption\n",
    "decrypted = []\n",
    "for y, A in ciphertext:\n",
    "    k = pow(A, b, p)\n",
    "    k_inv = mod_inverse(k, p)\n",
    "    z = (y * k_inv) % p\n",
    "    decrypted.append(z)\n",
    "    print(f\"Decrypt (y, A) = ({y}, {A}): z = {z}\")\n",
    "\n",
    "message_decoded = ''.join(encoding[z] for z in decrypted)\n",
    "print(f\"Original: {message}\")\n",
    "print(f\"Decrypted: {message_decoded}\")"
   ]
  },
  {
   "cell_type": "code",
   "execution_count": null,
   "metadata": {
    "id": "aJbHZwMMw9Zm"
   },
   "outputs": [],
   "source": []
  },
  {
   "cell_type": "code",
   "execution_count": null,
   "metadata": {
    "id": "tEgD6IUbw9TR"
   },
   "outputs": [],
   "source": [
    "import random\n",
    "\n",
    "def sieve_of_eratosthenes(limit):\n",
    "    sieve = [True] * (limit + 1)\n",
    "    sieve[0] = sieve[1] = False\n",
    "    for i in range(2, int(limit ** 0.5) + 1):\n",
    "        if sieve[i]:\n",
    "            for j in range(i * i, limit + 1, i):\n",
    "                sieve[j] = False\n",
    "    return [i for i in range(limit + 1) if sieve[i]]\n",
    "\n",
    "def miller_rabin(n, k=5):\n",
    "    if n == 2 or n == 3:\n",
    "        return True\n",
    "    if n < 2 or n % 2 == 0:\n",
    "        return False\n",
    "    r, s = 0, n - 1\n",
    "    while s % 2 == 0:\n",
    "        r += 1\n",
    "        s //= 2\n",
    "    for _ in range(k):\n",
    "        a = random.randrange(2, n - 1)\n",
    "        x = pow(a, s, n)\n",
    "        if x == 1 or x == n - 1:\n",
    "            continue\n",
    "        for _ in range(r - 1):\n",
    "            x = (x * x) % n\n",
    "            if x == n - 1:\n",
    "                break\n",
    "        else:\n",
    "            return False\n",
    "    return True\n",
    "\n",
    "def generate_large_prime(digits):\n",
    "    while True:\n",
    "        n = random.randint(10**(digits-1), 10**digits - 1)\n",
    "        if miller_rabin(n):\n",
    "            return n\n",
    "\n",
    "def mod_inverse(a, m):\n",
    "    def extended_gcd(a, b):\n",
    "        if a == 0:\n",
    "            return b, 0, 1\n",
    "        gcd, x1, y1 = extended_gcd(b % a, a)\n",
    "        x = y1 - (b // a) * x1\n",
    "        y = x1\n",
    "        return gcd, x, y\n",
    "    _, x, _ = extended_gcd(a, m)\n",
    "    return (x % m + m) % m\n"
   ]
  },
  {
   "cell_type": "code",
   "execution_count": null,
   "metadata": {
    "id": "OVozirMCw9GP"
   },
   "outputs": [],
   "source": [
    "%%time\n",
    "# Generate p1, p2, p\n",
    "p1 = generate_large_prime(349)\n",
    "p2 = generate_large_prime(350)\n",
    "while p1 >= p2:\n",
    "    p2 = generate_large_prime(350)\n",
    "p = 2 * p1 * p2 + 1\n",
    "while not miller_rabin(p) or len(str(p)) < 700:\n",
    "    p1 = generate_large_prime(349)\n",
    "    p2 = generate_large_prime(350)\n",
    "    while p1 >= p2:\n",
    "        p2 = generate_large_prime(350)\n",
    "    p = 2 * p1 * p2 + 1\n",
    "\n",
    "print(f\"p1 digits: {len(str(p1))}\")\n",
    "print(f\"p2 digits: {len(str(p2))}\")\n",
    "print(f\"p digits: {len(str(p))}\")\n",
    "\n"
   ]
  },
  {
   "cell_type": "code",
   "execution_count": null,
   "metadata": {
    "id": "Yw086_evw8-a"
   },
   "outputs": [],
   "source": [
    "%%time\n",
    "# ElGamal\n",
    "g = 2\n",
    "b = random.randint(10**698, 10**699 - 1)\n",
    "B = pow(g, b, p)\n",
    "\n",
    "encoding = {11: 'A', 12: 'B', 13: 'C', 14: 'D', 15: 'E', 16: 'F', 17: 'G', 18: 'H', 19: 'I',\n",
    "            20: 'J', 21: 'K', 22: 'L', 23: 'M', 24: 'N', 25: 'O', 26: 'P', 27: 'Q', 28: 'R',\n",
    "            29: 'S', 30: 'T', 31: 'U', 32: 'V', 33: 'W', 34: 'X', 35: 'Y', 36: 'Z', 41: ' '}\n",
    "\n",
    "# Encrypt \"HI\"\n",
    "message = \"HI\"\n",
    "plaintext = [18, 19]\n",
    "ciphertext = []\n",
    "for x in plaintext:\n",
    "    a = random.randint(10**698, 10**699 - 1)\n",
    "    A = pow(g, a, p)\n",
    "    k = pow(B, a, p)\n",
    "    y = (x * k) % p\n",
    "    ciphertext.append((y, A))\n",
    "    print(f\"Encrypt {x}: (y, A) = ({y}, {A})\")\n",
    "\n",
    "# Decrypt\n",
    "decrypted = []\n",
    "for y, A in ciphertext:\n",
    "    k = pow(A, b, p)\n",
    "    k_inv = mod_inverse(k, p)\n",
    "    z = (y * k_inv) % p\n",
    "    decrypted.append(z)\n",
    "    print(f\"Decrypt (y, A) = ({y}, {A}): z = {z}\")\n",
    "\n",
    "message_decoded = ''.join(encoding[z] for z in decrypted)\n",
    "print(f\"Original: {message}\")\n",
    "print(f\"Decrypted: {message_decoded}\")"
   ]
  }
 ],
 "metadata": {
  "colab": {
   "provenance": []
  },
  "kernelspec": {
   "display_name": "Python 3",
   "language": "python",
   "name": "python3"
  },
  "language_info": {
   "codemirror_mode": {
    "name": "ipython",
    "version": 3
   },
   "file_extension": ".py",
   "mimetype": "text/x-python",
   "name": "python",
   "nbconvert_exporter": "python",
   "pygments_lexer": "ipython3",
   "version": "3.9.2"
  }
 },
 "nbformat": 4,
 "nbformat_minor": 1
}
