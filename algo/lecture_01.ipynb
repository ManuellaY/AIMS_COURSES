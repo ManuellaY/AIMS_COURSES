{
 "cells": [
  {
   "cell_type": "markdown",
   "metadata": {},
   "source": [
    "## Additional reading"
   ]
  },
  {
   "cell_type": "markdown",
   "metadata": {},
   "source": [
    "Two textbooks which have explanations for many of the algorithms we will be discussing:\n",
    "\n",
    "* [Cormen, Leiserson, Rivest, Stein, \"Introduction to algorithms\"](https://drive.google.com/file/d/1PwHRRkkjiE4tQJl5m1MOq6cNqAGSKPmV/view?usp=share_link)\n",
    "* [Kleinberg, Tardos, \"Algorithm Design\"](https://drive.google.com/file/d/1wKy-wGuCYfRx1DH48vZHl5JA4nkhOmwC/view?usp=share_link)\n",
    "\n",
    "A gentle introduction to the ideas of computability and complexity:\n",
    "\n",
    "* [Harel, Feldman, \"Algorithmics: Spirit of Computing\"](https://drive.google.com/file/d/1m9-9Kw8EM4sahuWgF8UONigmyXFad6Mz/view?usp=share_link)"
   ]
  },
  {
   "cell_type": "markdown",
   "metadata": {},
   "source": [
    "## Exercise: Finding a smallest subproduct"
   ]
  },
  {
   "cell_type": "markdown",
   "metadata": {},
   "source": [
    "Let ``A`` be a nonempty list containing a sequence of $n$ real numbers $a_0,\\ldots,a_{n-1}$.\n",
    "For $0\\le i\\le j\\le n-1$, let the *$(i,j)$-subproduct* be\n",
    "$P(i,j):=\\prod_{k=i}^j a_k$. Write a function that outputs a triple $(i,j,P(i,j))$ with the minimum $(i,j)$-subproduct of $A$ over all $i,j$."
   ]
  },
  {
   "cell_type": "code",
   "execution_count": 1,
   "metadata": {},
   "outputs": [],
   "source": [
    "def smallest_subproduct(A):\n",
    "    pass"
   ]
  },
  {
   "cell_type": "markdown",
   "metadata": {},
   "source": [
    "You can test your code on the following inputs:"
   ]
  },
  {
   "cell_type": "code",
   "execution_count": 2,
   "metadata": {},
   "outputs": [],
   "source": [
    "import numpy as np\n",
    "np.random.seed(3)\n",
    "INPUTS = [\n",
    "    [0.1, 0.3, 2, 0.3, 1.1, 2],\n",
    "    [-0.1, 0.3, 2, -0.3, -1.1, 2],\n",
    "    [2],\n",
    "    [1, 5],\n",
    "    list( np.random.normal(size=100) ),\n",
    "    list( np.random.normal(size=1000) ),\n",
    "    list( np.random.normal(size=1000000) ),\n",
    "]"
   ]
  },
  {
   "cell_type": "code",
   "execution_count": 3,
   "metadata": {},
   "outputs": [
    {
     "name": "stdout",
     "output_type": "stream",
     "text": [
      "None\n",
      "None\n",
      "None\n",
      "None\n",
      "None\n",
      "None\n",
      "None\n",
      "CPU times: user 73 µs, sys: 107 µs, total: 180 µs\n",
      "Wall time: 123 µs\n"
     ]
    }
   ],
   "source": [
    "%%time\n",
    "for A in INPUTS:\n",
    "    print( smallest_subproduct(A) )"
   ]
  },
  {
   "cell_type": "code",
   "execution_count": null,
   "metadata": {},
   "outputs": [],
   "source": [
    " "
   ]
  }
 ],
 "metadata": {
  "kernelspec": {
   "display_name": "Python 3",
   "language": "python",
   "name": "python3"
  },
  "language_info": {
   "codemirror_mode": {
    "name": "ipython",
    "version": 3
   },
   "file_extension": ".py",
   "mimetype": "text/x-python",
   "name": "python",
   "nbconvert_exporter": "python",
   "pygments_lexer": "ipython3",
   "version": "3.9.2"
  }
 },
 "nbformat": 4,
 "nbformat_minor": 4
}
