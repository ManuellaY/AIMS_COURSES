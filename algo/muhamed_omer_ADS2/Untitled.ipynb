{
 "cells": [
  {
   "cell_type": "markdown",
   "id": "72959669",
   "metadata": {},
   "source": [
    "## Algorithms and data structures: Assignment 2"
   ]
  },
  {
   "cell_type": "markdown",
   "id": "b4f0fd88",
   "metadata": {},
   "source": [
    "### Problem C4: Priority leaves\n",
    "In this problem, you should use (with some changes) the priority queue (heap) that you implemented in your lecture\n",
    "notebook. Implement a priority queue with the following operations:\n",
    "• insert(x): Insert an element with priority x, where −106 ≤ x ≤ 106.\n",
    "• extract_maximum(): Remove the element with the highest priority. If the queue is empty, do nothing.\n",
    "• even_leaves(): Return the total number of leaves in the heap which have even priorities. A leaf is a node that\n",
    "does not have any children"
   ]
  },
  {
   "cell_type": "code",
   "execution_count": 134,
   "id": "b1bcb908",
   "metadata": {},
   "outputs": [],
   "source": [
    "import numpy as np\n",
    "\n",
    "class PriorityQueue:\n",
    "\n",
    "    \"\"\"\n",
    "    priority class: implement your queue and other helper functions here\n",
    "    \n",
    "    \"\"\"\n",
    "\n",
    "    def __init__(self):\n",
    "        \n",
    "        self.A = []\n",
    "        \n",
    "\n",
    "    # Static functions to compute, parent, left and right children.\n",
    "    # They are implemented as static methods.\n",
    "    @staticmethod\n",
    "    def parent(ind):\n",
    "           if ind%2 == 0:\n",
    "            return (ind - 1)//2\n",
    "        else:\n",
    "            return (ind )//2\n",
    "    \n",
    "    @staticmethod\n",
    "    def left(ind):\n",
    "        return (2*ind)+1\n",
    "    \n",
    "    @staticmethod\n",
    "    def right(ind):\n",
    "        return (2*ind)+2\n",
    "    \n",
    "    def insert(self, x):  \n",
    "        \n",
    "        ind = len(self.A)\n",
    "        self.A.append(x)\n",
    "        \n",
    "        if x< -1e6 and x>1e6:\n",
    "            return\n",
    "        while self.A[ind] > self.A[self.parent(ind)]:\n",
    "            if (self.parent(ind) < 0):\n",
    "                break\n",
    "                \n",
    "            self.A[ind], self.A[self.parent(ind)] = self.A[self.parent(ind)], self.A[ind]\n",
    "            ind = self.parent(ind)\n",
    "        #return self.A\n",
    "    \n",
    "    def fix_heap(self, ind):              # Helper function to fix the heap violated at index ind. See the lecture notes.\n",
    "        \n",
    "        n = len(self.A) -1\n",
    "        L = self.left(ind)\n",
    "        R = self.right(ind)\n",
    "        largest = ind\n",
    "        if L <= n and self.A[L]>self.A[ind]:\n",
    "            largest = L\n",
    "        if R<= n and self.A[R] > self.A[largest]:\n",
    "            largest = R\n",
    "        if largest != ind:\n",
    "            b = self.A[ind]\n",
    "            self.A[ind] = self.A[largest]\n",
    "            self.A[largest] = b\n",
    "            #self.A[ind], self.A[largest] = self.A[largest], self.A[ind]\n",
    "            self.fix_heap(largest)\n",
    "            \n",
    "            #print(self.A)\n",
    "    \n",
    "     \n",
    "    # Remove element with max priority\n",
    "    def extract_maximum(self):\n",
    "        if len(self.A) == 0:\n",
    "            return\n",
    "        self.A.pop(0)\n",
    "        self.fix_heap(0)\n",
    "\n",
    "    def even_leaves(self):\n",
    "        n = len(self.A)\n",
    "        even_leaf = 0\n",
    "        ind = n-1\n",
    "        while ind>= 0:\n",
    "            left_ind = self.left(ind)\n",
    "            right_ind = self.right(ind)\n",
    "            if left_ind > (n-1) and right_ind > (n-1):\n",
    "                if self.A[ind]%2 == 0:\n",
    "                    even_leaf += 1\n",
    "            ind -= 1\n",
    "        return even_leaf\n",
    "                    \n",
    "            \n",
    "            \n",
    "        \n",
    "Q = PriorityQueue()  \n",
    "def priority(test_case): # Decide what arguments you want this to take\n",
    "    \"\"\"\n",
    "    priority function \n",
    "    takes as input one test case \n",
    "    returns the solution for the test case \n",
    "    \"\"\"\n",
    "    \n",
    "    result = []\n",
    "    x = test_case.upper().split()\n",
    "\n",
    "    if (x[0] == \"I\"): \n",
    "        Q.insert(int(x[1]))\n",
    "    elif (x[0] == \"M\"):\n",
    "        Q.extract_maximum()\n",
    "    elif (x[0] == \"E\"):\n",
    "        result.append(Q.even_leaves())\n",
    "    return result\n",
    "    \n",
    "    \n",
    "\n",
    "    "
   ]
  },
  {
   "cell_type": "code",
   "execution_count": 136,
   "id": "e383d313",
   "metadata": {},
   "outputs": [],
   "source": [
    "def run_code(in_name='datasets/priority_small.in'):\n",
    "    \"\"\"\n",
    "    run_code function\n",
    "    takes one argument: the sample file to try\n",
    "    loads the data and writes the solution to the output file (priority_sol.out)\n",
    "    \"\"\"\n",
    "    # Open input and output files\n",
    "    with open(in_name, 'r') as fin, open('datasets/priority_sol.out', 'w') as fout:\n",
    "        num_tests = int(fin.readline().strip())  # Read the number of test sets\n",
    "       \n",
    "        for _ in range(num_tests):\n",
    "            k = int(fin.readline().strip())  # Read the number of commands\n",
    "            test_case = []\n",
    "           \n",
    "            for _ in range(k):\n",
    "                line = fin.readline().strip().split()\n",
    "                test_case.append(line)\n",
    "           \n",
    "            # Process the test case using the priority function\n",
    "            results = priority(test_case)\n",
    "           \n",
    "            # Write the results to the output file\n",
    "            for result in results:\n",
    "                fout.write(f\"{result}\\n\")"
   ]
  },
  {
   "cell_type": "code",
   "execution_count": null,
   "id": "8afd48c6",
   "metadata": {},
   "outputs": [],
   "source": [
    "A= [2]\n",
    "if not(A):\n",
    "    print(0)"
   ]
  },
  {
   "cell_type": "code",
   "execution_count": null,
   "id": "69bdc137",
   "metadata": {},
   "outputs": [],
   "source": [
    "test_case = \"thgr hbf\"\n",
    "x = test_case.split()\n",
    "x[1]"
   ]
  },
  {
   "cell_type": "code",
   "execution_count": 135,
   "id": "68705026",
   "metadata": {},
   "outputs": [
    {
     "data": {
      "text/plain": [
       "[1]"
      ]
     },
     "execution_count": 135,
     "metadata": {},
     "output_type": "execute_result"
    }
   ],
   "source": [
    "\n",
    "priority(\"I 1\")\n",
    "priority(\"I 2\")\n",
    "priority(\"I 4\")\n",
    "priority(\"E\")\n",
    "\n",
    "\n"
   ]
  },
  {
   "cell_type": "code",
   "execution_count": 115,
   "id": "99936547",
   "metadata": {},
   "outputs": [
    {
     "data": {
      "text/plain": [
       "[1]"
      ]
     },
     "execution_count": 115,
     "metadata": {},
     "output_type": "execute_result"
    }
   ],
   "source": [
    "Q = PriorityQueue()\n",
    "Q.insert(1)\n",
    "\n"
   ]
  },
  {
   "cell_type": "code",
   "execution_count": 116,
   "id": "d10c346c",
   "metadata": {},
   "outputs": [
    {
     "data": {
      "text/plain": [
       "[2, 1]"
      ]
     },
     "execution_count": 116,
     "metadata": {},
     "output_type": "execute_result"
    }
   ],
   "source": [
    "Q.insert(2)\n"
   ]
  },
  {
   "cell_type": "code",
   "execution_count": 117,
   "id": "d39e8adc",
   "metadata": {},
   "outputs": [
    {
     "data": {
      "text/plain": [
       "[4, 1, 2]"
      ]
     },
     "execution_count": 117,
     "metadata": {},
     "output_type": "execute_result"
    }
   ],
   "source": [
    "Q.insert(4)\n"
   ]
  },
  {
   "cell_type": "code",
   "execution_count": 118,
   "id": "19644a81",
   "metadata": {},
   "outputs": [
    {
     "data": {
      "text/plain": [
       "1"
      ]
     },
     "execution_count": 118,
     "metadata": {},
     "output_type": "execute_result"
    }
   ],
   "source": [
    "Q.even_leaves()"
   ]
  },
  {
   "cell_type": "code",
   "execution_count": 119,
   "id": "2248dd3d",
   "metadata": {},
   "outputs": [
    {
     "name": "stdout",
     "output_type": "stream",
     "text": [
      "[2, 1]\n"
     ]
    }
   ],
   "source": [
    "Q.extract_maximum()\n",
    "print(Q.A)"
   ]
  },
  {
   "cell_type": "code",
   "execution_count": 120,
   "id": "4153efa4",
   "metadata": {},
   "outputs": [
    {
     "data": {
      "text/plain": [
       "0"
      ]
     },
     "execution_count": 120,
     "metadata": {},
     "output_type": "execute_result"
    }
   ],
   "source": [
    "Q.even_leaves()"
   ]
  },
  {
   "cell_type": "code",
   "execution_count": null,
   "id": "d2583a85",
   "metadata": {},
   "outputs": [],
   "source": []
  },
  {
   "cell_type": "code",
   "execution_count": null,
   "id": "ba11f000",
   "metadata": {},
   "outputs": [],
   "source": []
  },
  {
   "cell_type": "code",
   "execution_count": null,
   "id": "597280f6",
   "metadata": {},
   "outputs": [],
   "source": []
  }
 ],
 "metadata": {
  "kernelspec": {
   "display_name": "Python 3",
   "language": "python",
   "name": "python3"
  },
  "language_info": {
   "codemirror_mode": {
    "name": "ipython",
    "version": 3
   },
   "file_extension": ".py",
   "mimetype": "text/x-python",
   "name": "python",
   "nbconvert_exporter": "python",
   "pygments_lexer": "ipython3",
   "version": "3.9.2"
  }
 },
 "nbformat": 4,
 "nbformat_minor": 5
}
