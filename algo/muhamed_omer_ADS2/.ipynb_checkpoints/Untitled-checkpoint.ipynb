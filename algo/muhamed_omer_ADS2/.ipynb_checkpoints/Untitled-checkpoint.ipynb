{
 "cells": [
  {
   "cell_type": "markdown",
   "id": "72959669",
   "metadata": {},
   "source": [
    "## Algorithms and data structures: Assignment 2"
   ]
  },
  {
   "cell_type": "markdown",
   "id": "b4f0fd88",
   "metadata": {},
   "source": [
    "### Problem C4: Priority leaves\n",
    "In this problem, you should use (with some changes) the priority queue (heap) that you implemented in your lecture\n",
    "notebook. Implement a priority queue with the following operations:\n",
    "• insert(x): Insert an element with priority x, where −106 ≤ x ≤ 106.\n",
    "• extract_maximum(): Remove the element with the highest priority. If the queue is empty, do nothing.\n",
    "• even_leaves(): Return the total number of leaves in the heap which have even priorities. A leaf is a node that\n",
    "does not have any children"
   ]
  },
  {
   "cell_type": "code",
   "execution_count": null,
   "id": "b1bcb908",
   "metadata": {},
   "outputs": [],
   "source": [
    "import numpy as np\n",
    "\n",
    "class PriorityQueue:\n",
    "\n",
    "    \"\"\"\n",
    "    priority class: implement your queue and other helper functions here\n",
    "    \n",
    "    \"\"\"\n",
    "\n",
    "    def __init__(self):\n",
    "        \n",
    "        self.A = []\n",
    "        \n",
    "\n",
    "    # Static functions to compute, parent, left and right children.\n",
    "    # They are implemented as static methods.\n",
    "    @staticmethod\n",
    "    def parent(ind):\n",
    "        return (ind - 1)//2\n",
    "    \n",
    "    @staticmethod\n",
    "    def left(ind):\n",
    "        return (2*ind)+1\n",
    "    \n",
    "    @staticmethod\n",
    "    def right(ind):\n",
    "        return (2*ind)+2\n",
    "    \n",
    "    def insert(self, x):  \n",
    "        \n",
    "        ind = len(self.A)\n",
    "        self.A.append(x)\n",
    "        \n",
    "        if x< -1e6 and x>1e6:\n",
    "            return\n",
    "        while self.A[ind] > self.A[self.parent(ind)]:\n",
    "            if (self.parent(ind) < 0):\n",
    "                break\n",
    "                \n",
    "            self.A[ind-1], self.A[self.parent(ind)] = self.A[self.parent(ind-1)], self.A[ind]\n",
    "            ind = self.parent(ind)\n",
    "        return self.A\n",
    "    \n",
    "     \n",
    "    # Remove element with max priority\n",
    "    def extract_maximum(self):\n",
    "        if len(self.A) == 0:\n",
    "            return\n",
    "        self.A.pop(0)\n",
    "\n",
    "    def even_leaves(self):\n",
    "        n = len(self.A)\n",
    "        even_leaf = 0\n",
    "        ind = n-1\n",
    "        while ind>= 0:\n",
    "            left_ind = self.left(ind)\n",
    "            right_ind = self.right(ind)\n",
    "            if left_ind > (n-1) or right_ind > (n-1):\n",
    "                if self.A[ind]%2 == 0:\n",
    "                    even_leaf += 1\n",
    "            ind -= 1\n",
    "        return even_leaf\n",
    "                    \n",
    "            \n",
    "            \n",
    "        \n",
    "        \n",
    "\n",
    "def priority(test_case): # Decide what arguments you want this to take\n",
    "    \"\"\"\n",
    "    priority function \n",
    "    takes as input one test case \n",
    "    returns the solution for the test case \n",
    "    \"\"\"\n",
    "    Q = PriorityQueue()\n",
    "    x = test_case.upper().split()\n",
    "\n",
    "    if (x[0] == \"I\"): \n",
    "        return Q.insert(int(x[1]))\n",
    "    elif (x[0] == \"M\"):\n",
    "        return Q.extract_maximum()\n",
    "    elif (x[0] == \"E\"):\n",
    "        return Q.even_leaves()\n",
    "    else:\n",
    "        return\n",
    "    \n",
    "    \n",
    "\n",
    "    "
   ]
  },
  {
   "cell_type": "code",
   "execution_count": 12,
   "id": "8afd48c6",
   "metadata": {},
   "outputs": [],
   "source": [
    "A= [2]\n",
    "if not(A):\n",
    "    print(0)"
   ]
  },
  {
   "cell_type": "code",
   "execution_count": 29,
   "id": "69bdc137",
   "metadata": {},
   "outputs": [
    {
     "data": {
      "text/plain": [
       "'hbf'"
      ]
     },
     "execution_count": 29,
     "metadata": {},
     "output_type": "execute_result"
    }
   ],
   "source": [
    "test_case = \"thgr hbf\"\n",
    "x = test_case.split()\n",
    "x[1]"
   ]
  },
  {
   "cell_type": "code",
   "execution_count": 50,
   "id": "68705026",
   "metadata": {},
   "outputs": [
    {
     "data": {
      "text/plain": [
       "0"
      ]
     },
     "execution_count": 50,
     "metadata": {},
     "output_type": "execute_result"
    }
   ],
   "source": [
    "\n",
    "priority(\"I 1\")\n",
    "priority(\"I 2\")\n",
    "priority(\"I 4\")\n",
    "priority(\"E\")\n",
    "#priority(\"M\")\n",
    "#priority(\"E\")\n"
   ]
  },
  {
   "cell_type": "code",
   "execution_count": null,
   "id": "99936547",
   "metadata": {},
   "outputs": [],
   "source": [
    "Q = PriorityQueue()\n",
    "Q.insert(1)\n",
    "Q.insert(2)\n",
    "Q.insert(4)\n"
   ]
  },
  {
   "cell_type": "code",
   "execution_count": null,
   "id": "2248dd3d",
   "metadata": {},
   "outputs": [],
   "source": [
    "Q.extract_maximum()"
   ]
  },
  {
   "cell_type": "code",
   "execution_count": null,
   "id": "19644a81",
   "metadata": {},
   "outputs": [],
   "source": [
    "Q.even_leaves()"
   ]
  },
  {
   "cell_type": "code",
   "execution_count": null,
   "id": "de82a9e0",
   "metadata": {},
   "outputs": [],
   "source": [
    "Q.extract_maximum()"
   ]
  },
  {
   "cell_type": "code",
   "execution_count": null,
   "id": "4153efa4",
   "metadata": {},
   "outputs": [],
   "source": []
  },
  {
   "cell_type": "code",
   "execution_count": null,
   "id": "d2583a85",
   "metadata": {},
   "outputs": [],
   "source": []
  },
  {
   "cell_type": "code",
   "execution_count": null,
   "id": "ba11f000",
   "metadata": {},
   "outputs": [],
   "source": []
  },
  {
   "cell_type": "code",
   "execution_count": null,
   "id": "597280f6",
   "metadata": {},
   "outputs": [],
   "source": []
  }
 ],
 "metadata": {
  "kernelspec": {
   "display_name": "Python 3",
   "language": "python",
   "name": "python3"
  },
  "language_info": {
   "codemirror_mode": {
    "name": "ipython",
    "version": 3
   },
   "file_extension": ".py",
   "mimetype": "text/x-python",
   "name": "python",
   "nbconvert_exporter": "python",
   "pygments_lexer": "ipython3",
   "version": "3.9.2"
  }
 },
 "nbformat": 4,
 "nbformat_minor": 5
}
