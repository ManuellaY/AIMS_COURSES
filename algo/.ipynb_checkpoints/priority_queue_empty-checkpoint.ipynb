{
 "cells": [
  {
   "cell_type": "code",
   "execution_count": 62,
   "id": "c0076d7b-d006-42fc-a3f8-4d24b3846ce1",
   "metadata": {},
   "outputs": [],
   "source": [
    "import numpy as np\n",
    "import functools"
   ]
  },
  {
   "cell_type": "markdown",
   "id": "68063f60-b119-443e-87f2-cb625ef9a1a5",
   "metadata": {},
   "source": [
    "## `Person` class"
   ]
  },
  {
   "cell_type": "markdown",
   "id": "8cc51c26-573d-490d-b323-cb5164bd6b8d",
   "metadata": {},
   "source": [
    "This is an example of a class implementing a database record of one person. Each person has id, name and priority score. Furthermore, for each person we store its index in the heap or -1 if it is not in the heap."
   ]
  },
  {
   "cell_type": "code",
   "execution_count": 63,
   "id": "6c5267a6-f424-47fd-99ab-147a86bef480",
   "metadata": {},
   "outputs": [],
   "source": [
    "@functools.total_ordering                        # This automatically defines all comparisons if < and == are defined.\n",
    "class Person:\n",
    "    def __init__(self, id, name, priority):      # Constructor.\n",
    "        self.id = id\n",
    "        self.name = name\n",
    "        self.priority = priority\n",
    "        self.queue_index = -1\n",
    "        \n",
    "    def __str__(self):                           # String conversion for printing.\n",
    "        return 'id: %d, name: %s, priority: %d' % (self.id, self.name, self.priority)\n",
    "    \n",
    "    def __lt__(self, other):                     # Implements '<' comparison.\n",
    "        return self.priority < other.priority\n",
    "    def __eq__(self, other):                     # Implements '==' comparison.\n",
    "        return self.priority == other.priority"
   ]
  },
  {
   "cell_type": "markdown",
   "id": "17d493e2-c46d-4a6a-a715-9b6af8427869",
   "metadata": {},
   "source": [
    "Note that because of the `queue_index` attribute we can put one `Person` object only in one priority queue. It is a good exercise to think how to remove this limitation."
   ]
  },
  {
   "cell_type": "code",
   "execution_count": 97,
   "id": "03a4597d-75b6-4735-9860-136368d0953b",
   "metadata": {},
   "outputs": [],
   "source": [
    "people = [\n",
    "    Person(0, 'Jan', 10),\n",
    "    Person(1, 'Donald', 20),\n",
    "    Person(2, 'Muhamed', 31),\n",
    "    Person(3, 'Leila', 45),\n",
    "    Person(4, 'Kunle', 15)\n",
    "]"
   ]
  },
  {
   "cell_type": "code",
   "execution_count": 65,
   "id": "28ad464a",
   "metadata": {},
   "outputs": [
    {
     "data": {
      "text/plain": [
       "(3, 'Leila')"
      ]
     },
     "execution_count": 65,
     "metadata": {},
     "output_type": "execute_result"
    }
   ],
   "source": [
    "a = people[3]\n",
    "a.id, a.name"
   ]
  },
  {
   "cell_type": "code",
   "execution_count": 66,
   "id": "e4bfd34c-d829-4c98-8dcf-a0da75a546e0",
   "metadata": {},
   "outputs": [
    {
     "data": {
      "text/plain": [
       "True"
      ]
     },
     "execution_count": 66,
     "metadata": {},
     "output_type": "execute_result"
    }
   ],
   "source": [
    "people[0] != people[1]"
   ]
  },
  {
   "cell_type": "code",
   "execution_count": 67,
   "id": "0fd8ae7c-da1b-4dac-824d-2301d47acc1b",
   "metadata": {
    "scrolled": true
   },
   "outputs": [
    {
     "data": {
      "text/plain": [
       "True"
      ]
     },
     "execution_count": 67,
     "metadata": {},
     "output_type": "execute_result"
    }
   ],
   "source": [
    "Person(0, 'Jan', 10) == Person(2, 'Muhamed', 10)"
   ]
  },
  {
   "cell_type": "code",
   "execution_count": 68,
   "id": "159e0e97-8b2a-4edb-9836-0cc34bde5f7f",
   "metadata": {},
   "outputs": [
    {
     "name": "stdout",
     "output_type": "stream",
     "text": [
      "id: 3, name: Leila, priority: 45\n"
     ]
    }
   ],
   "source": [
    "print(people[3])"
   ]
  },
  {
   "cell_type": "markdown",
   "id": "0d549b58-8397-4709-9ce0-6d33e324f442",
   "metadata": {},
   "source": [
    "## Priority queue problem"
   ]
  },
  {
   "cell_type": "markdown",
   "id": "0b4afb2c-a4f6-4c2b-b1ee-0ae6808325a7",
   "metadata": {},
   "source": [
    "We want to implement a **priority queue** with the following operations: \n",
    "* `maximum()` to return element with maximum priority.\n",
    "* `extract_maximum()` to return and remove element with maximum priority.\n",
    "* `insert(x)` to insert element `x` into the queue.\n",
    "* `increase_priority(x, new_priority)` to increase the priority to the value `new_priority`."
   ]
  },
  {
   "cell_type": "markdown",
   "id": "22971384-39ef-4e95-b910-5ce89fa60b90",
   "metadata": {},
   "source": [
    "The queue should support any valid sequence of operations on the queue. Each operation should take at most $O(\\log n)$ time, where $n$ is the current number of elements in the queue."
   ]
  },
  {
   "cell_type": "markdown",
   "id": "d0c7ebca-9825-445e-a68d-db6e5958f316",
   "metadata": {},
   "source": [
    "Example of the code we want to run:"
   ]
  },
  {
   "cell_type": "code",
   "execution_count": 69,
   "id": "7921e429-3300-4fc5-bb30-4895ba4b1fe5",
   "metadata": {},
   "outputs": [
    {
     "name": "stdout",
     "output_type": "stream",
     "text": [
      "id: 4, name: Kunle, priority: 15\n",
      "id: 1, name: Donald, priority: 20\n",
      "id: 2, name: Muhamed, priority: 31\n"
     ]
    }
   ],
   "source": [
    "Q = PriorityQueue()\n",
    "for i in range(5):\n",
    "    Q.insert(people[i])\n",
    "print( Q.extract_maximum() )\n",
    "Q.increase_priority(people[4], 50)\n",
    "print( Q.extract_maximum() )\n",
    "print( Q.extract_maximum() )"
   ]
  },
  {
   "cell_type": "markdown",
   "id": "ba410bcd-a22d-46c6-afbd-9f7d40f5144c",
   "metadata": {},
   "source": [
    "## Priority queue implementation"
   ]
  },
  {
   "cell_type": "code",
   "execution_count": 109,
   "id": "5914876c-ae25-4e1b-9589-79ed51b00054",
   "metadata": {},
   "outputs": [],
   "source": [
    "class PriorityQueue:\n",
    "    def __init__(self):\n",
    "        self.A = [12,4,9,0,3,1,3]\n",
    "        self.n = len(self.A)\n",
    "\n",
    "    #### Below are helper functions:\n",
    "\n",
    "    # Static functions to compute, parent, left and right children.\n",
    "    # They are implemented as static methods.\n",
    "    @staticmethod\n",
    "    def parent(ind):\n",
    "        return (ind - 1)//2\n",
    "    \n",
    "    @staticmethod\n",
    "    def left(ind):\n",
    "        return (2*ind)+1\n",
    "    \n",
    "    @staticmethod\n",
    "    def right(ind):\n",
    "        return (2*ind)+2\n",
    "\n",
    "    def assign_in_heap(self, x, ind):     # Helper function: Assign element x to H[ind] and update queue_index in x.\n",
    "        if len(self.A) != 0:\n",
    "            self.A[ind] = x\n",
    "            x.queue_index = ind\n",
    "            \n",
    "\n",
    "    def fix_heap(self, ind):              # Helper function to fix the heap violated at index ind. See the lecture notes.\n",
    "        n = self.n\n",
    "        L = self.left(ind)\n",
    "        R = self.right(ind)\n",
    "        if L < n and self.A[L]>self.A[ind]:\n",
    "            largest = L\n",
    "        else:\n",
    "            largest = ind\n",
    "        if R< n and self.A[R] > self.A[largest]:\n",
    "            largest = R\n",
    "        if largest != ind:\n",
    "#             b = self.A[ind]\n",
    "#             self.assign_in_heap(self.A[largest], ind)\n",
    "#             self.assign_in_heap( b, largest)\n",
    "            self.fix_heap(largest)\n",
    "            self.A[ind],self.A[largest] = self.A[largest],self.A[ind]\n",
    "            print(self.A)\n",
    "            \n",
    "    \n",
    "   \n",
    "\n",
    "    ### Below are main functions:\n",
    "        \n",
    "    def maximum(self):                    # Return element with max priority\n",
    "        if len(self.A) == 0:\n",
    "             return None\n",
    "        return self.A[0]\n",
    "    \n",
    "    def extract_maximum(self):            # Return and remove element with max priority\n",
    "        return self.A.pop(0)\n",
    "    \n",
    "    def insert(self, x):                  # Insert x into the queue.\n",
    "        n = self.n\n",
    "        self.A.append(x)\n",
    "        for i in range(len(self.A)-1, 1, -1):\n",
    "            self.fix_heap(i)\n",
    "        return self.A\n",
    "            \n",
    "            \n",
    "    def increase_priority(self, x, new_priority):    # Increase the priority of x in the queue to value new_priority.\n",
    "        x.priority = new_priority\n",
    "        return self.A\n",
    "    "
   ]
  },
  {
   "cell_type": "code",
   "execution_count": 110,
   "id": "3a6f3b71",
   "metadata": {},
   "outputs": [
    {
     "data": {
      "text/plain": [
       "[12, 4, 9, 0, 3, 1, 3, 20]"
      ]
     },
     "execution_count": 110,
     "metadata": {},
     "output_type": "execute_result"
    }
   ],
   "source": [
    "PriorityQueue().insert(20)\n",
    "#PriorityQueue().fix_heap(3)"
   ]
  },
  {
   "cell_type": "markdown",
   "id": "c7ec1c1d-394b-4b86-8905-cd9b54ea8e51",
   "metadata": {},
   "source": [
    "For explanation of static methods, please see, e.g., [here](https://www.geeksforgeeks.org/class-method-vs-static-method-python/)."
   ]
  },
  {
   "cell_type": "code",
   "execution_count": 71,
   "id": "dae581dc-7ce7-4855-9213-7ee139f83540",
   "metadata": {},
   "outputs": [
    {
     "data": {
      "text/plain": [
       "4"
      ]
     },
     "execution_count": 71,
     "metadata": {},
     "output_type": "execute_result"
    }
   ],
   "source": [
    "PriorityQueue.parent(10)  # Static method: called on the class, not on specific object\n",
    "#PriorityQueue.insert()   # ERROR: Does not make sense"
   ]
  },
  {
   "cell_type": "markdown",
   "id": "2695ba78-1beb-4462-9e1d-a29478308695",
   "metadata": {},
   "source": [
    "Below some test codes"
   ]
  },
  {
   "cell_type": "code",
   "execution_count": 104,
   "id": "bab7caac-a8fa-4ed5-a358-6288dd029665",
   "metadata": {},
   "outputs": [
    {
     "name": "stdout",
     "output_type": "stream",
     "text": [
      "[12, 4, 9, 20, 3, 1, 3, 0, <__main__.Person object at 0x7f18c0f66ac0>]\n",
      "[12, 20, 9, 4, 3, 1, 3, 0, <__main__.Person object at 0x7f18c0f66ac0>, <__main__.Person object at 0x7f18c0f66340>]\n",
      "[12, 4, 9, 20, 3, 1, 3, 0, <__main__.Person object at 0x7f18c0fa0520>]\n",
      "12\n",
      "12\n"
     ]
    }
   ],
   "source": [
    "Q1 = PriorityQueue()\n",
    "Q2 = PriorityQueue()\n",
    "Q1.insert(people[0])\n",
    "Q1.insert(people[1])\n",
    "Q2.insert(people[3])\n",
    "print(Q2.maximum())\n",
    "print(Q1.extract_maximum())"
   ]
  },
  {
   "cell_type": "code",
   "execution_count": 99,
   "id": "4b02fca0-274b-4528-9fc0-4ff54deb77c4",
   "metadata": {},
   "outputs": [
    {
     "name": "stdout",
     "output_type": "stream",
     "text": [
      "id: 0, name: Jan, priority: 10\n",
      "id: 4, name: Kunle, priority: 50\n",
      "id: 1, name: Donald, priority: 20\n",
      "id: 2, name: Muhamed, priority: 31\n"
     ]
    }
   ],
   "source": [
    "Q = PriorityQueue()\n",
    "for i in range(5):\n",
    "    Q.insert(people[i])\n",
    "#print(Q.A)\n",
    "print( Q.extract_maximum() )\n",
    "Q.increase_priority(people[4], 50)\n",
    "print(people[4])\n",
    "#print(Q.A)\n",
    "print( Q.extract_maximum() )\n",
    "print( Q.extract_maximum() )"
   ]
  },
  {
   "cell_type": "markdown",
   "id": "d5168ba9-47a9-4250-9a99-075af90d949c",
   "metadata": {},
   "source": [
    "## Stacks and queues"
   ]
  },
  {
   "cell_type": "markdown",
   "id": "e9d9e2da-25eb-4e93-bb42-6cbb9117c3dc",
   "metadata": {},
   "source": [
    "Stacks and queues are simpler data structures without priority. They can be implemented with Python lists and $O(1)$ time per operation. "
   ]
  },
  {
   "cell_type": "code",
   "execution_count": 93,
   "id": "a4405a5f-339e-4399-8a71-54e322049456",
   "metadata": {},
   "outputs": [],
   "source": [
    "class Stack:     # Last in, first out (LIFO)\n",
    "    def __init__(self):\n",
    "        self.A = []\n",
    "    def push(self, x):    # Insert element x into the stack.\n",
    "        self.A.append(x)\n",
    "    def pop(self):        # Remove the top element in the stack.\n",
    "        self.A.pop(len(self.A))"
   ]
  },
  {
   "cell_type": "code",
   "execution_count": 94,
   "id": "5dc420bd-4048-4817-ba21-572d9c8825b3",
   "metadata": {},
   "outputs": [],
   "source": [
    "class Queue:     # First in, First out (FIFO)\n",
    "    def __init__(self):\n",
    "        self.A = []\n",
    "    def enqueue(self, x):  # Insert element x into the queue.\n",
    "        self.A.append(x)\n",
    "    def dequeue(self):     # Remove first element in the queue.\n",
    "        self.A.pop(0)"
   ]
  },
  {
   "cell_type": "markdown",
   "id": "54d624a6-c8a9-4eb3-a3ec-ebf859ee5db7",
   "metadata": {},
   "source": [
    "To implement a queue in $O(1)$ time per operation, you need to be careful about the following fact: Appending and popping **at the end** of a Python list take $O(1)$ time. But doing so **at the beginning** takes $O(n)$ time."
   ]
  },
  {
   "cell_type": "code",
   "execution_count": null,
   "id": "1e11135a-0832-4364-b5ac-07fdf3e8ee01",
   "metadata": {},
   "outputs": [],
   "source": []
  }
 ],
 "metadata": {
  "kernelspec": {
   "display_name": "Python 3",
   "language": "python",
   "name": "python3"
  },
  "language_info": {
   "codemirror_mode": {
    "name": "ipython",
    "version": 3
   },
   "file_extension": ".py",
   "mimetype": "text/x-python",
   "name": "python",
   "nbconvert_exporter": "python",
   "pygments_lexer": "ipython3",
   "version": "3.9.2"
  }
 },
 "nbformat": 4,
 "nbformat_minor": 5
}
