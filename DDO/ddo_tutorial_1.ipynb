{
 "cells": [
  {
   "cell_type": "markdown",
   "metadata": {
    "id": "bpIRG11RUDs7"
   },
   "source": [
    "## **Intro to Pytorch**\n",
    "\n",
    "PyTorch is an open-source machine learning library developed by Facebook's AI Research lab (FAIR). It is widely used for various machine learning tasks, including deep learning. PyTorch is known for its dynamic computational graph, which allows for more intuitive and flexible model development compared to static computational graphs used in some other frameworks.\n",
    "\n",
    "Follow instructions in the link:\n",
    "https://pytorch.org/tutorials/beginner/introyt/introyt1_tutorial.html\n",
    "\n"
   ]
  },
  {
   "cell_type": "markdown",
   "metadata": {
    "id": "MAT_-DDoYM_S"
   },
   "source": [
    "**Tensors**: Similar to TensorFlow, PyTorch uses tensors as the fundamental building blocks for numerical computations. Tensors are multi-dimensional arrays that can be used for various mathematical operations."
   ]
  },
  {
   "cell_type": "markdown",
   "metadata": {
    "id": "6htZbbY0YSTD"
   },
   "source": [
    "**Autograd**: PyTorch includes an automatic differentiation library called Autograd. This feature automatically computes gradients of tensors with respect to a given objective, which is essential for training machine learning models through techniques like backpropagation."
   ]
  },
  {
   "cell_type": "markdown",
   "metadata": {
    "id": "L1VEhfvJYWwN"
   },
   "source": [
    "**Neural Network Module**: PyTorch provides a torch.nn module that simplifies the process of building and training neural networks. It includes pre-defined layers, loss functions, and optimization algorithms, making it easier for developers to construct and train models."
   ]
  },
  {
   "cell_type": "code",
   "execution_count": 3,
   "metadata": {},
   "outputs": [
    {
     "name": "stdout",
     "output_type": "stream",
     "text": [
      "\u001b[33mWARNING: Keyring is skipped due to an exception: Failed to unlock the collection!\u001b[0m\n",
      "Collecting torch\n",
      "  Downloading torch-2.6.0-cp39-cp39-manylinux1_x86_64.whl (766.7 MB)\n",
      "\u001b[K     |████████████████████████████████| 766.7 MB 14 kB/s  eta 0:00:015     |██████████████████              | 430.8 MB 7.7 MB/s eta 0:00:44     |███████████████████▌            | 466.1 MB 8.7 MB/s eta 0:00:35\n",
      "\u001b[?25hRequirement already satisfied: jinja2 in /usr/lib/python3/dist-packages (from torch) (2.11.3)\n",
      "Collecting nvidia-cublas-cu12==12.4.5.8\n",
      "  Downloading nvidia_cublas_cu12-12.4.5.8-py3-none-manylinux2014_x86_64.whl (363.4 MB)\n",
      "\u001b[K     |████████████████████████████████| 363.4 MB 2.2 MB/s eta 0:00:01     |███████████████████▋            | 223.0 MB 7.9 MB/s eta 0:00:18\n",
      "\u001b[?25hCollecting nvidia-cufft-cu12==11.2.1.3\n",
      "  Downloading nvidia_cufft_cu12-11.2.1.3-py3-none-manylinux2014_x86_64.whl (211.5 MB)\n",
      "\u001b[K     |████████████████████████████████| 211.5 MB 82 kB/s  eta 0:00:01\n",
      "\u001b[?25hCollecting nvidia-cuda-cupti-cu12==12.4.127\n",
      "  Downloading nvidia_cuda_cupti_cu12-12.4.127-py3-none-manylinux2014_x86_64.whl (13.8 MB)\n",
      "\u001b[K     |████████████████████████████████| 13.8 MB 3.6 MB/s eta 0:00:01\n",
      "\u001b[?25hCollecting nvidia-nvjitlink-cu12==12.4.127\n",
      "  Downloading nvidia_nvjitlink_cu12-12.4.127-py3-none-manylinux2014_x86_64.whl (21.1 MB)\n",
      "\u001b[K     |████████████████████████████████| 21.1 MB 4.7 MB/s eta 0:00:01\n",
      "\u001b[?25hCollecting nvidia-nvtx-cu12==12.4.127\n",
      "  Downloading nvidia_nvtx_cu12-12.4.127-py3-none-manylinux2014_x86_64.whl (99 kB)\n",
      "\u001b[K     |████████████████████████████████| 99 kB 5.7 MB/s eta 0:00:011\n",
      "\u001b[?25hRequirement already satisfied: typing-extensions>=4.10.0 in /home/manuella/.local/lib/python3.9/site-packages (from torch) (4.12.2)\n",
      "Collecting nvidia-cuda-runtime-cu12==12.4.127\n",
      "  Downloading nvidia_cuda_runtime_cu12-12.4.127-py3-none-manylinux2014_x86_64.whl (883 kB)\n",
      "\u001b[K     |████████████████████████████████| 883 kB 6.4 MB/s eta 0:00:01\n",
      "\u001b[?25hCollecting sympy==1.13.1\n",
      "  Downloading sympy-1.13.1-py3-none-any.whl (6.2 MB)\n",
      "\u001b[K     |████████████████████████████████| 6.2 MB 6.2 MB/s eta 0:00:01\n",
      "\u001b[?25hCollecting nvidia-cusolver-cu12==11.6.1.9\n",
      "  Downloading nvidia_cusolver_cu12-11.6.1.9-py3-none-manylinux2014_x86_64.whl (127.9 MB)\n",
      "\u001b[K     |████████████████████████████████| 127.9 MB 258 kB/s eta 0:00:01\n",
      "\u001b[?25hCollecting nvidia-nccl-cu12==2.21.5\n",
      "  Downloading nvidia_nccl_cu12-2.21.5-py3-none-manylinux2014_x86_64.whl (188.7 MB)\n",
      "\u001b[K     |████████████████████████████████| 188.7 MB 3.6 MB/s eta 0:00:01\n",
      "\u001b[?25hCollecting nvidia-curand-cu12==10.3.5.147\n",
      "  Downloading nvidia_curand_cu12-10.3.5.147-py3-none-manylinux2014_x86_64.whl (56.3 MB)\n",
      "\u001b[K     |████████████████████████████████| 56.3 MB 6.2 MB/s eta 0:00:01\n",
      "\u001b[?25hRequirement already satisfied: fsspec in /usr/lib/python3/dist-packages (from torch) (0.8.4)\n",
      "Collecting nvidia-cuda-nvrtc-cu12==12.4.127\n",
      "  Downloading nvidia_cuda_nvrtc_cu12-12.4.127-py3-none-manylinux2014_x86_64.whl (24.6 MB)\n",
      "\u001b[K     |████████████████████████████████| 24.6 MB 6.2 MB/s eta 0:00:01\n",
      "\u001b[?25hRequirement already satisfied: networkx in /home/manuella/.local/lib/python3.9/site-packages (from torch) (3.2.1)\n",
      "Collecting nvidia-cusparselt-cu12==0.6.2\n",
      "  Downloading nvidia_cusparselt_cu12-0.6.2-py3-none-manylinux2014_x86_64.whl (150.1 MB)\n",
      "\u001b[K     |████████████████████████████████| 150.1 MB 3.4 MB/s eta 0:00:01\n",
      "\u001b[?25hCollecting nvidia-cudnn-cu12==9.1.0.70\n",
      "  Downloading nvidia_cudnn_cu12-9.1.0.70-py3-none-manylinux2014_x86_64.whl (664.8 MB)\n",
      "\u001b[K     |████████████████████████████████| 664.8 MB 23 kB/s  eta 0:00:01     |██████████████▉                 | 307.0 MB 2.1 MB/s eta 0:02:50\n",
      "\u001b[?25hRequirement already satisfied: filelock in /usr/lib/python3/dist-packages (from torch) (3.0.12)\n",
      "Collecting triton==3.2.0\n",
      "  Downloading triton-3.2.0-cp39-cp39-manylinux_2_17_x86_64.manylinux2014_x86_64.whl (253.1 MB)\n",
      "\u001b[K     |████████████████████████████████| 253.1 MB 856 kB/s eta 0:00:01\n",
      "\u001b[?25hCollecting nvidia-cusparse-cu12==12.3.1.170\n",
      "  Downloading nvidia_cusparse_cu12-12.3.1.170-py3-none-manylinux2014_x86_64.whl (207.5 MB)\n",
      "\u001b[K     |████████████████████████████████| 207.5 MB 70 kB/s  eta 0:00:01    |█████████▌                      | 61.3 MB 5.1 MB/s eta 0:00:29\n",
      "\u001b[?25hRequirement already satisfied: mpmath<1.4,>=1.1.0 in /home/manuella/.local/lib/python3.9/site-packages (from sympy==1.13.1->torch) (1.3.0)\n",
      "Installing collected packages: nvidia-nvjitlink-cu12, nvidia-cusparse-cu12, nvidia-cublas-cu12, triton, sympy, nvidia-nvtx-cu12, nvidia-nccl-cu12, nvidia-cusparselt-cu12, nvidia-cusolver-cu12, nvidia-curand-cu12, nvidia-cufft-cu12, nvidia-cudnn-cu12, nvidia-cuda-runtime-cu12, nvidia-cuda-nvrtc-cu12, nvidia-cuda-cupti-cu12, torch\n",
      "  Attempting uninstall: sympy\n",
      "    Found existing installation: sympy 1.13.3\n",
      "    Uninstalling sympy-1.13.3:\n",
      "      Successfully uninstalled sympy-1.13.3\n",
      "Successfully installed nvidia-cublas-cu12-12.4.5.8 nvidia-cuda-cupti-cu12-12.4.127 nvidia-cuda-nvrtc-cu12-12.4.127 nvidia-cuda-runtime-cu12-12.4.127 nvidia-cudnn-cu12-9.1.0.70 nvidia-cufft-cu12-11.2.1.3 nvidia-curand-cu12-10.3.5.147 nvidia-cusolver-cu12-11.6.1.9 nvidia-cusparse-cu12-12.3.1.170 nvidia-cusparselt-cu12-0.6.2 nvidia-nccl-cu12-2.21.5 nvidia-nvjitlink-cu12-12.4.127 nvidia-nvtx-cu12-12.4.127 sympy-1.13.1 torch-2.6.0 triton-3.2.0\n"
     ]
    }
   ],
   "source": [
    "!pip install torch"
   ]
  },
  {
   "cell_type": "code",
   "execution_count": 4,
   "metadata": {
    "id": "JA4-pjPwUVP8"
   },
   "outputs": [],
   "source": [
    "import torch\n",
    "import numpy as np"
   ]
  },
  {
   "cell_type": "markdown",
   "metadata": {
    "id": "HqcUrVE4kvVq"
   },
   "source": [
    "## **Manipulating Tensors in PyTorch**"
   ]
  },
  {
   "cell_type": "code",
   "execution_count": 5,
   "metadata": {
    "colab": {
     "base_uri": "https://localhost:8080/"
    },
    "id": "h96M0dkBk5DS",
    "outputId": "67efdc05-e061-499c-cf95-75ab847aa665"
   },
   "outputs": [
    {
     "data": {
      "text/plain": [
       "tensor([3, 4])"
      ]
     },
     "execution_count": 5,
     "metadata": {},
     "output_type": "execute_result"
    }
   ],
   "source": [
    "data = [3, 4]\n",
    "x_data = torch.tensor(data)\n",
    "x_data"
   ]
  },
  {
   "cell_type": "markdown",
   "metadata": {
    "id": "DHio3NEilQHH"
   },
   "source": [
    "Tensors can be created from NumPy arrays and vice versa. This allows for seamless integration with existing NumPy code and libraries."
   ]
  },
  {
   "cell_type": "code",
   "execution_count": 6,
   "metadata": {
    "id": "-mSLOAe7lSwW"
   },
   "outputs": [],
   "source": [
    "np_array = np.array(data)\n",
    "x_np = torch.from_numpy(np_array)"
   ]
  },
  {
   "cell_type": "markdown",
   "metadata": {
    "id": "0mhotDvlln62"
   },
   "source": [
    "Using built-in functions:\n"
   ]
  },
  {
   "cell_type": "code",
   "execution_count": 7,
   "metadata": {
    "id": "uUGv5HOCZPov"
   },
   "outputs": [],
   "source": [
    "# Tensor with random values between 0 and 1\n",
    "rand_tensor = torch.rand(2, 3)\n",
    "\n",
    "# Tensor with random values from a standard normal distribution\n",
    "randn_tensor = torch.randn(2, 3)\n",
    "\n",
    "# Tensor with all ones\n",
    "ones_tensor = torch.ones(2, 3)\n",
    "\n",
    "# Tensor with all zeros\n",
    "zeros_tensor = torch.zeros(2, 3)\n",
    "\n",
    "# Identity matrix\n",
    "eye_tensor = torch.eye(3)\n",
    "\n",
    "# Tensor with values from 0 to 9 (exclusive)\n",
    "arange_tensor = torch.arange(10)\n",
    "\n",
    "# Tensor with 10 values evenly spaced between 0 and 1\n",
    "linspace_tensor = torch.linspace(0, 1, 10)"
   ]
  },
  {
   "cell_type": "code",
   "execution_count": 11,
   "metadata": {},
   "outputs": [
    {
     "data": {
      "text/plain": [
       "torch.strided"
      ]
     },
     "execution_count": 11,
     "metadata": {},
     "output_type": "execute_result"
    }
   ],
   "source": [
    "linspace_tensor.size()\n",
    "linspace_tensor.dtype\n",
    "linspace_tensor.device\n",
    "linspace_tensor.layout"
   ]
  },
  {
   "cell_type": "code",
   "execution_count": 12,
   "metadata": {},
   "outputs": [
    {
     "data": {
      "text/plain": [
       "False"
      ]
     },
     "execution_count": 12,
     "metadata": {},
     "output_type": "execute_result"
    }
   ],
   "source": [
    "torch.cuda.is_available()"
   ]
  },
  {
   "cell_type": "markdown",
   "metadata": {
    "id": "GwM9TKJ0l5pm"
   },
   "source": [
    "## **Tensor Attributes**"
   ]
  },
  {
   "cell_type": "markdown",
   "metadata": {
    "id": "5WkWEVBZl-dg"
   },
   "source": [
    "Understanding tensor attributes is crucial for effective manipulation:\n",
    "\n",
    "\n",
    "\n",
    "*   Shape: A tuple of tensor dimensions, accessed using tensor. shape or` tensor.size()`. This determines the number of elements and their arrangement within the tensor.\n",
    "*   Data type: The type of data stored in the tensor (e.g., torch.float32, torch.int64), accessed using `tensor.dtype`. This affects the precision and memory usage of the tensor.\n",
    "\n",
    "*   Device: The device where the tensor is stored (CPU or GPU), accessed using `tensor.device`. This is important for utilizing GPU acceleration for faster computations.\n",
    "*   Layout: The way the tensor is stored in memory (e.g., strided, sparse), accessed using `tensor.layout`. This can affect performance and memory usage."
   ]
  },
  {
   "cell_type": "markdown",
   "metadata": {
    "id": "iNlzqP0zmsyf"
   },
   "source": [
    "## **Tensor Operations**"
   ]
  },
  {
   "cell_type": "markdown",
   "metadata": {
    "id": "Vy6ZbU10m0Yc"
   },
   "source": [
    "PyTorch supports a wide range of tensor operations:\n",
    "\n",
    "Indexing and slicing: Accessing specific elements or sub-tensors using standard indexing and slicing techniques. This allows for extracting and manipulating parts of the tensor.\n",
    "\n"
   ]
  },
  {
   "cell_type": "code",
   "execution_count": 5,
   "metadata": {
    "colab": {
     "base_uri": "https://localhost:8080/"
    },
    "id": "f37uwK9IcLU8",
    "outputId": "f054111e-e1f9-4f7b-c4aa-f490046ce9fc"
   },
   "outputs": [
    {
     "name": "stdout",
     "output_type": "stream",
     "text": [
      "First row: tensor([1., 1., 1., 1.])\n",
      "First column: tensor([1., 1., 1., 1.])\n",
      "Last column: tensor([1., 1., 1., 1.])\n",
      "tensor([[1., 0., 1., 1.],\n",
      "        [1., 0., 1., 1.],\n",
      "        [1., 0., 1., 1.],\n",
      "        [1., 0., 1., 1.]])\n"
     ]
    }
   ],
   "source": [
    "tensor = torch.ones(4, 4)\n",
    "print(f\"First row: {tensor[0]}\")\n",
    "print(f\"First column: {tensor[:, 0]}\")\n",
    "print(f\"Last column: {tensor[..., -1]}\")\n",
    "tensor[:,1] = 0\n",
    "print(tensor)"
   ]
  },
  {
   "cell_type": "markdown",
   "metadata": {
    "id": "Q5VZNRbXnLYo"
   },
   "source": [
    "Reshaping: Changing the shape of a tensor without altering its data using methods like `tensor.view()`, `tensor.reshape()`, and `tensor.transpose()`. This is often used to adapt tensors for different operations or layers in a neural network."
   ]
  },
  {
   "cell_type": "code",
   "execution_count": 6,
   "metadata": {
    "colab": {
     "base_uri": "https://localhost:8080/"
    },
    "id": "r7piYEVCnH9Y",
    "outputId": "e6a2af38-f5eb-4375-d122-4de74d7d8163"
   },
   "outputs": [
    {
     "name": "stdout",
     "output_type": "stream",
     "text": [
      "torch.Size([4, 4]) torch.Size([16]) torch.Size([2, 8])\n"
     ]
    }
   ],
   "source": [
    "x = torch.randn(4, 4)\n",
    "y = x.view(16)\n",
    "z = x.view(-1, 8)  # the size -1 is inferred from other dimensions\n",
    "print(x.size(), y.size(), z.size())"
   ]
  },
  {
   "cell_type": "markdown",
   "metadata": {
    "id": "zP__UIeMnhZC"
   },
   "source": [
    "Concatenation: Joining tensors along a given dimension using `torch.cat()` or `torch.stack()`. This is useful for combining data or features."
   ]
  },
  {
   "cell_type": "code",
   "execution_count": 17,
   "metadata": {
    "colab": {
     "base_uri": "https://localhost:8080/"
    },
    "id": "dDz9R4donVTW",
    "outputId": "c93edd8b-0474-46bb-f6fb-b853c7489383"
   },
   "outputs": [
    {
     "name": "stdout",
     "output_type": "stream",
     "text": [
      "tensor([1, 2, 3, 4, 5, 6])\n",
      "tensor([1, 2, 3, 4, 5, 6])\n",
      "tensor([[1, 2, 3],\n",
      "        [4, 5, 6]])\n",
      "tensor([[1, 4],\n",
      "        [2, 5],\n",
      "        [3, 6]])\n"
     ]
    }
   ],
   "source": [
    "# Create two tensors\n",
    "tensor1 = torch.tensor([1, 2, 3])\n",
    "tensor2 = torch.tensor([4, 5, 6])\n",
    "\n",
    "# Concatenate along the existing axis (dim=0)\n",
    "concatenated_tensor = torch.cat((tensor1, tensor2), dim=0)\n",
    "concatenated_tensor1 = torch.cat((tensor1, tensor2))\n",
    "stacked_tensor = torch.stack((tensor1, tensor2), dim=0)\n",
    "stacked_tensor1 = torch.stack((tensor1, tensor2), dim=1)\n",
    "print(concatenated_tensor)\n",
    "print(concatenated_tensor1)\n",
    "print(stacked_tensor)\n",
    "print(stacked_tensor1)\n",
    "\n"
   ]
  },
  {
   "cell_type": "markdown",
   "metadata": {
    "id": "MqO5V83eoHZA"
   },
   "source": [
    "Mathematical operations: Performing arithmetic, linear algebra, matrix manipulation, and other mathematical operations on tensors. PyTorch provides a comprehensive set of functions for these operations."
   ]
  },
  {
   "cell_type": "code",
   "execution_count": 18,
   "metadata": {
    "colab": {
     "base_uri": "https://localhost:8080/"
    },
    "id": "paxK738Rn1Di",
    "outputId": "7371a3cb-1fbd-4bed-be42-80967562e0c7"
   },
   "outputs": [
    {
     "name": "stdout",
     "output_type": "stream",
     "text": [
      "tensor([[14, 32],\n",
      "        [32, 77]])\n",
      "tensor([[14, 32],\n",
      "        [32, 77]])\n",
      "tensor([[ 1,  4,  9],\n",
      "        [16, 25, 36]])\n",
      "tensor([[ 1,  4,  9],\n",
      "        [16, 25, 36]])\n"
     ]
    },
    {
     "data": {
      "text/plain": [
       "tensor([[ 6,  7,  8],\n",
       "        [ 9, 10, 11]])"
      ]
     },
     "execution_count": 18,
     "metadata": {},
     "output_type": "execute_result"
    }
   ],
   "source": [
    "# Matrix multiplication\n",
    "y1 = stacked_tensor @ stacked_tensor.T\n",
    "print(y1)\n",
    "y2 = stacked_tensor.matmul(stacked_tensor.T)\n",
    "print(y2)\n",
    "\n",
    "# Element-wise multiplication\n",
    "z1 = stacked_tensor * stacked_tensor\n",
    "print(z1)\n",
    "z2 = stacked_tensor.mul(stacked_tensor)\n",
    "print(z2)\n",
    "\n",
    "# Element-wise addition\n",
    "stacked_tensor.add_(5)"
   ]
  },
  {
   "cell_type": "markdown",
   "metadata": {
    "id": "IGF8DfwCo9mb"
   },
   "source": [
    "In-place operations: Operations that modify the tensor directly, denoted by an underscore postfix (e.g., `tensor.add_()`). These can be more memory-efficient but should be used with caution."
   ]
  },
  {
   "cell_type": "markdown",
   "metadata": {
    "id": "H0RDCMoJpGUO"
   },
   "source": [
    "## **Using the Autograd Module**"
   ]
  },
  {
   "cell_type": "markdown",
   "metadata": {
    "id": "eWUKG5EfpMuA"
   },
   "source": [
    "The autograd module is PyTorch's automatic differentiation engine, crucial for training neural networks. This section covers gradients, Jacobians, Hessians, and computational graphs."
   ]
  },
  {
   "cell_type": "markdown",
   "metadata": {
    "id": "qa0t8soxpQ4o"
   },
   "source": [
    "## **1. Gradients**"
   ]
  },
  {
   "cell_type": "markdown",
   "metadata": {
    "id": "jV2PJzCXpXWU"
   },
   "source": [
    "requires_grad: To compute gradients, set the `requires_grad=True` for a tensor. This enables tracking of operations on that tensor, creating a computational graph."
   ]
  },
  {
   "cell_type": "code",
   "execution_count": 28,
   "metadata": {
    "id": "5A36H0pdoKGq"
   },
   "outputs": [
    {
     "data": {
      "text/plain": [
       "tensor([[1., 1.],\n",
       "        [1., 1.]], requires_grad=True)"
      ]
     },
     "execution_count": 28,
     "metadata": {},
     "output_type": "execute_result"
    }
   ],
   "source": [
    "x = torch.ones(2, 2, requires_grad=True)\n",
    "x"
   ]
  },
  {
   "cell_type": "markdown",
   "metadata": {
    "id": "keOaiBKvphwM"
   },
   "source": [
    "`.backward() `: Computes the gradients of a tensor with respect to its leaf nodes in the computational graph. This is the core of backpropagation."
   ]
  },
  {
   "cell_type": "code",
   "execution_count": 33,
   "metadata": {
    "colab": {
     "base_uri": "https://localhost:8080/"
    },
    "id": "Mx91Gu1Ope6R",
    "outputId": "ef293868-d885-4e48-c101-a7333a85a589"
   },
   "outputs": [
    {
     "name": "stdout",
     "output_type": "stream",
     "text": [
      "tensor([[3., 3.],\n",
      "        [3., 3.]], grad_fn=<AddBackward0>)\n",
      "tensor([[27., 27.],\n",
      "        [27., 27.]], grad_fn=<MulBackward0>)\n",
      "tensor(27., grad_fn=<MeanBackward0>)\n",
      "tensor([[9., 9.],\n",
      "        [9., 9.]])\n"
     ]
    }
   ],
   "source": [
    "y = x + 2\n",
    "print(y)\n",
    "z = y * y * 3\n",
    "print(z)\n",
    "out = z.mean()\n",
    "print(out)\n",
    "out.backward()\n",
    "#print(out.backward())\n",
    "print(x.grad)"
   ]
  },
  {
   "cell_type": "markdown",
   "metadata": {
    "id": "NV0D0xJSppDt"
   },
   "source": [
    "`.grad`: Accesses the accumulated gradients for a tensor. This attribute stores the gradients computed during the `.backward()` call."
   ]
  },
  {
   "cell_type": "markdown",
   "metadata": {
    "id": "t5UxgCAIpzBk"
   },
   "source": [
    "## **2. Jacobian Product**"
   ]
  },
  {
   "cell_type": "markdown",
   "metadata": {
    "id": "uRAN6LwLp6Dr"
   },
   "source": [
    "For vector-valued functions, autograd computes the Jacobian product, which is the product of the Jacobian matrix and a given vector. This is more efficient than computing the full Jacobian matrix."
   ]
  },
  {
   "cell_type": "code",
   "execution_count": 18,
   "metadata": {
    "colab": {
     "base_uri": "https://localhost:8080/"
    },
    "id": "lqPDMqlopllI",
    "outputId": "e8975c06-2ced-4f7b-90f2-25dab6a717a2"
   },
   "outputs": [
    {
     "name": "stdout",
     "output_type": "stream",
     "text": [
      "tensor([[ 2.,  0.],\n",
      "        [ 0., 12.]])\n"
     ]
    }
   ],
   "source": [
    "\n",
    "# Define a function\n",
    "def func(x):\n",
    "    return torch.stack([x[0]**2, x[1]**3])\n",
    "\n",
    "# Create an input tensor with requires_grad=True\n",
    "x = torch.tensor([1.0, 2.0], requires_grad=True)\n",
    "\n",
    "# Compute the output of the function\n",
    "y = func(x)\n",
    "\n",
    "# Compute the Jacobian\n",
    "jacobian = torch.zeros((2, 2))  # initialize a tensor to hold the Jacobian matrix\n",
    "for i in range(2):\n",
    "    y[i].backward(retain_graph=True)\n",
    "    jacobian[i] = x.grad\n",
    "    x.grad.zero_()  # zero the gradients for the next computation\n",
    "\n",
    "print(jacobian)\n"
   ]
  },
  {
   "cell_type": "markdown",
   "metadata": {
    "id": "S37s1jsHqUWL"
   },
   "source": [
    "## **3. Hessians**"
   ]
  },
  {
   "cell_type": "markdown",
   "metadata": {
    "id": "_kmA0cAFqYaO"
   },
   "source": [
    "The Hessian matrix represents the second derivatives of a function, you can use the `torch.autograd.functional.hessian()` function to calculate it."
   ]
  },
  {
   "cell_type": "code",
   "execution_count": 35,
   "metadata": {
    "colab": {
     "base_uri": "https://localhost:8080/"
    },
    "id": "a_az1gekqGLJ",
    "outputId": "81e2a4ae-0624-4a87-a749-179ad1e45842"
   },
   "outputs": [
    {
     "name": "stdout",
     "output_type": "stream",
     "text": [
      "tensor([[2., 0.],\n",
      "        [0., 2.]])\n"
     ]
    }
   ],
   "source": [
    "from torch.autograd.functional import hessian\n",
    "\n",
    "def f(x):\n",
    "    return x[0]**2 + x[1]**2\n",
    "\n",
    "x = torch.tensor([1.0, 2.0], requires_grad=True)\n",
    "hessian_matrix = hessian(f, x)\n",
    "print(hessian_matrix)"
   ]
  },
  {
   "cell_type": "code",
   "execution_count": 37,
   "metadata": {},
   "outputs": [
    {
     "name": "stdout",
     "output_type": "stream",
     "text": [
      "tensor([[6., 0.],\n",
      "        [0., 0.]])\n"
     ]
    }
   ],
   "source": [
    "def f(x):\n",
    "    return x[0]**3 + x[1]**3 - 3*x[0] + 5*x[1]\n",
    "\n",
    "x = torch.tensor([1.0, 0.0], requires_grad=True)\n",
    "hessian_matrix = hessian(f, x)\n",
    "print(hessian_matrix)"
   ]
  },
  {
   "cell_type": "markdown",
   "metadata": {
    "id": "QV7xCbEjqsc1"
   },
   "source": [
    "## **4. Computational Graph**"
   ]
  },
  {
   "cell_type": "markdown",
   "metadata": {
    "id": "JCMxiL0pqxrK"
   },
   "source": [
    "Autograd maintains a directed acyclic graph (DAG) representing the operations performed on tensors. This graph is dynamic and recreated after each `.backward()` call. Understanding this graph is crucial for debugging and optimizing your models."
   ]
  },
  {
   "cell_type": "markdown",
   "metadata": {
    "id": "Bq_eW8fFq2QO"
   },
   "source": [
    "## **5.  Disabling Gradient Tracking**"
   ]
  },
  {
   "cell_type": "markdown",
   "metadata": {
    "id": "pxs8N0TmrAry"
   },
   "source": [
    "Gradient tracking can be disabled using `torch.no_grad()` to speed up computations when gradients are not needed, such as during inference or when evaluating a model."
   ]
  },
  {
   "cell_type": "code",
   "execution_count": 20,
   "metadata": {
    "colab": {
     "base_uri": "https://localhost:8080/"
    },
    "id": "qbU6lfugqorB",
    "outputId": "8b77ad5d-545b-4077-b5f4-ef737ffa5f8d"
   },
   "outputs": [
    {
     "name": "stdout",
     "output_type": "stream",
     "text": [
      "False\n"
     ]
    }
   ],
   "source": [
    "with torch.no_grad():\n",
    "    print((x ** 2).requires_grad)"
   ]
  }
 ],
 "metadata": {
  "colab": {
   "provenance": []
  },
  "kernelspec": {
   "display_name": "Python 3",
   "language": "python",
   "name": "python3"
  },
  "language_info": {
   "codemirror_mode": {
    "name": "ipython",
    "version": 3
   },
   "file_extension": ".py",
   "mimetype": "text/x-python",
   "name": "python",
   "nbconvert_exporter": "python",
   "pygments_lexer": "ipython3",
   "version": "3.9.2"
  }
 },
 "nbformat": 4,
 "nbformat_minor": 1
}
